{
 "cells": [
  {
   "cell_type": "code",
   "execution_count": 1,
   "metadata": {},
   "outputs": [],
   "source": [
    "import pandas as pd\n",
    "import numpy as np"
   ]
  },
  {
   "cell_type": "code",
   "execution_count": 2,
   "metadata": {},
   "outputs": [],
   "source": [
    "ri = pd.read_csv('data/datacamp_data/police.csv')"
   ]
  },
  {
   "cell_type": "code",
   "execution_count": 3,
   "metadata": {},
   "outputs": [
    {
     "data": {
      "text/html": [
       "<div>\n",
       "<style scoped>\n",
       "    .dataframe tbody tr th:only-of-type {\n",
       "        vertical-align: middle;\n",
       "    }\n",
       "\n",
       "    .dataframe tbody tr th {\n",
       "        vertical-align: top;\n",
       "    }\n",
       "\n",
       "    .dataframe thead th {\n",
       "        text-align: right;\n",
       "    }\n",
       "</style>\n",
       "<table border=\"1\" class=\"dataframe\">\n",
       "  <thead>\n",
       "    <tr style=\"text-align: right;\">\n",
       "      <th></th>\n",
       "      <th>state</th>\n",
       "      <th>stop_date</th>\n",
       "      <th>stop_time</th>\n",
       "      <th>county_name</th>\n",
       "      <th>driver_gender</th>\n",
       "      <th>driver_race</th>\n",
       "      <th>violation_raw</th>\n",
       "      <th>violation</th>\n",
       "      <th>search_conducted</th>\n",
       "      <th>search_type</th>\n",
       "      <th>stop_outcome</th>\n",
       "      <th>is_arrested</th>\n",
       "      <th>stop_duration</th>\n",
       "      <th>drugs_related_stop</th>\n",
       "      <th>district</th>\n",
       "    </tr>\n",
       "  </thead>\n",
       "  <tbody>\n",
       "    <tr>\n",
       "      <th>0</th>\n",
       "      <td>RI</td>\n",
       "      <td>2005-01-04</td>\n",
       "      <td>12:55</td>\n",
       "      <td>NaN</td>\n",
       "      <td>M</td>\n",
       "      <td>White</td>\n",
       "      <td>Equipment/Inspection Violation</td>\n",
       "      <td>Equipment</td>\n",
       "      <td>False</td>\n",
       "      <td>NaN</td>\n",
       "      <td>Citation</td>\n",
       "      <td>False</td>\n",
       "      <td>0-15 Min</td>\n",
       "      <td>False</td>\n",
       "      <td>Zone X4</td>\n",
       "    </tr>\n",
       "    <tr>\n",
       "      <th>1</th>\n",
       "      <td>RI</td>\n",
       "      <td>2005-01-23</td>\n",
       "      <td>23:15</td>\n",
       "      <td>NaN</td>\n",
       "      <td>M</td>\n",
       "      <td>White</td>\n",
       "      <td>Speeding</td>\n",
       "      <td>Speeding</td>\n",
       "      <td>False</td>\n",
       "      <td>NaN</td>\n",
       "      <td>Citation</td>\n",
       "      <td>False</td>\n",
       "      <td>0-15 Min</td>\n",
       "      <td>False</td>\n",
       "      <td>Zone K3</td>\n",
       "    </tr>\n",
       "    <tr>\n",
       "      <th>2</th>\n",
       "      <td>RI</td>\n",
       "      <td>2005-02-17</td>\n",
       "      <td>04:15</td>\n",
       "      <td>NaN</td>\n",
       "      <td>M</td>\n",
       "      <td>White</td>\n",
       "      <td>Speeding</td>\n",
       "      <td>Speeding</td>\n",
       "      <td>False</td>\n",
       "      <td>NaN</td>\n",
       "      <td>Citation</td>\n",
       "      <td>False</td>\n",
       "      <td>0-15 Min</td>\n",
       "      <td>False</td>\n",
       "      <td>Zone X4</td>\n",
       "    </tr>\n",
       "    <tr>\n",
       "      <th>3</th>\n",
       "      <td>RI</td>\n",
       "      <td>2005-02-20</td>\n",
       "      <td>17:15</td>\n",
       "      <td>NaN</td>\n",
       "      <td>M</td>\n",
       "      <td>White</td>\n",
       "      <td>Call for Service</td>\n",
       "      <td>Other</td>\n",
       "      <td>False</td>\n",
       "      <td>NaN</td>\n",
       "      <td>Arrest Driver</td>\n",
       "      <td>True</td>\n",
       "      <td>16-30 Min</td>\n",
       "      <td>False</td>\n",
       "      <td>Zone X1</td>\n",
       "    </tr>\n",
       "    <tr>\n",
       "      <th>4</th>\n",
       "      <td>RI</td>\n",
       "      <td>2005-02-24</td>\n",
       "      <td>01:20</td>\n",
       "      <td>NaN</td>\n",
       "      <td>F</td>\n",
       "      <td>White</td>\n",
       "      <td>Speeding</td>\n",
       "      <td>Speeding</td>\n",
       "      <td>False</td>\n",
       "      <td>NaN</td>\n",
       "      <td>Citation</td>\n",
       "      <td>False</td>\n",
       "      <td>0-15 Min</td>\n",
       "      <td>False</td>\n",
       "      <td>Zone X3</td>\n",
       "    </tr>\n",
       "  </tbody>\n",
       "</table>\n",
       "</div>"
      ],
      "text/plain": [
       "  state   stop_date stop_time  county_name driver_gender driver_race  \\\n",
       "0    RI  2005-01-04     12:55          NaN             M       White   \n",
       "1    RI  2005-01-23     23:15          NaN             M       White   \n",
       "2    RI  2005-02-17     04:15          NaN             M       White   \n",
       "3    RI  2005-02-20     17:15          NaN             M       White   \n",
       "4    RI  2005-02-24     01:20          NaN             F       White   \n",
       "\n",
       "                    violation_raw  violation  search_conducted search_type  \\\n",
       "0  Equipment/Inspection Violation  Equipment             False         NaN   \n",
       "1                        Speeding   Speeding             False         NaN   \n",
       "2                        Speeding   Speeding             False         NaN   \n",
       "3                Call for Service      Other             False         NaN   \n",
       "4                        Speeding   Speeding             False         NaN   \n",
       "\n",
       "    stop_outcome is_arrested stop_duration  drugs_related_stop district  \n",
       "0       Citation       False      0-15 Min               False  Zone X4  \n",
       "1       Citation       False      0-15 Min               False  Zone K3  \n",
       "2       Citation       False      0-15 Min               False  Zone X4  \n",
       "3  Arrest Driver        True     16-30 Min               False  Zone X1  \n",
       "4       Citation       False      0-15 Min               False  Zone X3  "
      ]
     },
     "execution_count": 3,
     "metadata": {},
     "output_type": "execute_result"
    }
   ],
   "source": [
    "ri.head()"
   ]
  },
  {
   "cell_type": "code",
   "execution_count": 4,
   "metadata": {},
   "outputs": [
    {
     "data": {
      "text/plain": [
       "state                     0\n",
       "stop_date                 0\n",
       "stop_time                 0\n",
       "county_name           91741\n",
       "driver_gender          5205\n",
       "driver_race            5202\n",
       "violation_raw          5202\n",
       "violation              5202\n",
       "search_conducted          0\n",
       "search_type           88434\n",
       "stop_outcome           5202\n",
       "is_arrested            5202\n",
       "stop_duration          5202\n",
       "drugs_related_stop        0\n",
       "district                  0\n",
       "dtype: int64"
      ]
     },
     "execution_count": 4,
     "metadata": {},
     "output_type": "execute_result"
    }
   ],
   "source": [
    "ri.isnull().sum()"
   ]
  },
  {
   "cell_type": "code",
   "execution_count": 5,
   "metadata": {},
   "outputs": [
    {
     "data": {
      "text/plain": [
       "(91741, 15)"
      ]
     },
     "execution_count": 5,
     "metadata": {},
     "output_type": "execute_result"
    }
   ],
   "source": [
    "ri.shape"
   ]
  },
  {
   "cell_type": "code",
   "execution_count": 6,
   "metadata": {},
   "outputs": [],
   "source": [
    "ri.drop(['county_name', 'state'], axis='columns', inplace=True)"
   ]
  },
  {
   "cell_type": "code",
   "execution_count": 7,
   "metadata": {},
   "outputs": [],
   "source": [
    "#drop rows that are missing driver_gener\n",
    "ri.dropna(subset=['driver_gender'], inplace=True)"
   ]
  },
  {
   "cell_type": "code",
   "execution_count": 8,
   "metadata": {},
   "outputs": [
    {
     "data": {
      "text/plain": [
       "(86536, 13)"
      ]
     },
     "execution_count": 8,
     "metadata": {},
     "output_type": "execute_result"
    }
   ],
   "source": [
    "ri.shape"
   ]
  },
  {
   "cell_type": "markdown",
   "metadata": {},
   "source": [
    "Using Proper DataTypes"
   ]
  },
  {
   "cell_type": "code",
   "execution_count": 9,
   "metadata": {},
   "outputs": [
    {
     "data": {
      "text/plain": [
       "stop_date             object\n",
       "stop_time             object\n",
       "driver_gender         object\n",
       "driver_race           object\n",
       "violation_raw         object\n",
       "violation             object\n",
       "search_conducted        bool\n",
       "search_type           object\n",
       "stop_outcome          object\n",
       "is_arrested           object\n",
       "stop_duration         object\n",
       "drugs_related_stop      bool\n",
       "district              object\n",
       "dtype: object"
      ]
     },
     "execution_count": 9,
     "metadata": {},
     "output_type": "execute_result"
    }
   ],
   "source": [
    "ri.dtypes"
   ]
  },
  {
   "cell_type": "code",
   "execution_count": 10,
   "metadata": {},
   "outputs": [
    {
     "data": {
      "text/plain": [
       "dtype('O')"
      ]
     },
     "execution_count": 10,
     "metadata": {},
     "output_type": "execute_result"
    }
   ],
   "source": [
    "ri.is_arrested.dtype"
   ]
  },
  {
   "cell_type": "code",
   "execution_count": 11,
   "metadata": {},
   "outputs": [
    {
     "data": {
      "text/plain": [
       "0    False\n",
       "1    False\n",
       "2    False\n",
       "3     True\n",
       "4    False\n",
       "Name: is_arrested, dtype: object"
      ]
     },
     "execution_count": 11,
     "metadata": {},
     "output_type": "execute_result"
    }
   ],
   "source": [
    "ri.is_arrested.head()"
   ]
  },
  {
   "cell_type": "code",
   "execution_count": 12,
   "metadata": {},
   "outputs": [],
   "source": [
    "ri['is_arrested'] = ri.is_arrested.astype(bool)"
   ]
  },
  {
   "cell_type": "code",
   "execution_count": 13,
   "metadata": {},
   "outputs": [
    {
     "data": {
      "text/plain": [
       "stop_date             object\n",
       "stop_time             object\n",
       "driver_gender         object\n",
       "driver_race           object\n",
       "violation_raw         object\n",
       "violation             object\n",
       "search_conducted        bool\n",
       "search_type           object\n",
       "stop_outcome          object\n",
       "is_arrested             bool\n",
       "stop_duration         object\n",
       "drugs_related_stop      bool\n",
       "district              object\n",
       "dtype: object"
      ]
     },
     "execution_count": 13,
     "metadata": {},
     "output_type": "execute_result"
    }
   ],
   "source": [
    "ri.dtypes"
   ]
  },
  {
   "cell_type": "markdown",
   "metadata": {},
   "source": [
    "Create a DatetimeIndex"
   ]
  },
  {
   "cell_type": "code",
   "execution_count": 14,
   "metadata": {},
   "outputs": [
    {
     "data": {
      "text/html": [
       "<div>\n",
       "<style scoped>\n",
       "    .dataframe tbody tr th:only-of-type {\n",
       "        vertical-align: middle;\n",
       "    }\n",
       "\n",
       "    .dataframe tbody tr th {\n",
       "        vertical-align: top;\n",
       "    }\n",
       "\n",
       "    .dataframe thead th {\n",
       "        text-align: right;\n",
       "    }\n",
       "</style>\n",
       "<table border=\"1\" class=\"dataframe\">\n",
       "  <thead>\n",
       "    <tr style=\"text-align: right;\">\n",
       "      <th></th>\n",
       "      <th>stop_date</th>\n",
       "      <th>stop_time</th>\n",
       "    </tr>\n",
       "  </thead>\n",
       "  <tbody>\n",
       "    <tr>\n",
       "      <th>0</th>\n",
       "      <td>2005-01-04</td>\n",
       "      <td>12:55</td>\n",
       "    </tr>\n",
       "    <tr>\n",
       "      <th>1</th>\n",
       "      <td>2005-01-23</td>\n",
       "      <td>23:15</td>\n",
       "    </tr>\n",
       "    <tr>\n",
       "      <th>2</th>\n",
       "      <td>2005-02-17</td>\n",
       "      <td>04:15</td>\n",
       "    </tr>\n",
       "    <tr>\n",
       "      <th>3</th>\n",
       "      <td>2005-02-20</td>\n",
       "      <td>17:15</td>\n",
       "    </tr>\n",
       "    <tr>\n",
       "      <th>4</th>\n",
       "      <td>2005-02-24</td>\n",
       "      <td>01:20</td>\n",
       "    </tr>\n",
       "  </tbody>\n",
       "</table>\n",
       "</div>"
      ],
      "text/plain": [
       "    stop_date stop_time\n",
       "0  2005-01-04     12:55\n",
       "1  2005-01-23     23:15\n",
       "2  2005-02-17     04:15\n",
       "3  2005-02-20     17:15\n",
       "4  2005-02-24     01:20"
      ]
     },
     "execution_count": 14,
     "metadata": {},
     "output_type": "execute_result"
    }
   ],
   "source": [
    "# combine stop_date and stop_time\n",
    "ri[['stop_date', 'stop_time']].head()"
   ]
  },
  {
   "cell_type": "code",
   "execution_count": 15,
   "metadata": {},
   "outputs": [],
   "source": [
    "date_time_combined = ri.stop_date.str.cat(ri.stop_time, sep=' ')"
   ]
  },
  {
   "cell_type": "code",
   "execution_count": 16,
   "metadata": {},
   "outputs": [
    {
     "data": {
      "text/plain": [
       "0    2005-01-04 12:55\n",
       "1    2005-01-23 23:15\n",
       "2    2005-02-17 04:15\n",
       "3    2005-02-20 17:15\n",
       "4    2005-02-24 01:20\n",
       "Name: stop_date, dtype: object"
      ]
     },
     "execution_count": 16,
     "metadata": {},
     "output_type": "execute_result"
    }
   ],
   "source": [
    "date_time_combined.head()"
   ]
  },
  {
   "cell_type": "code",
   "execution_count": 17,
   "metadata": {},
   "outputs": [],
   "source": [
    "ri['date_and_time'] = pd.to_datetime(date_time_combined)"
   ]
  },
  {
   "cell_type": "code",
   "execution_count": 18,
   "metadata": {},
   "outputs": [
    {
     "data": {
      "text/plain": [
       "stop_date                     object\n",
       "stop_time                     object\n",
       "driver_gender                 object\n",
       "driver_race                   object\n",
       "violation_raw                 object\n",
       "violation                     object\n",
       "search_conducted                bool\n",
       "search_type                   object\n",
       "stop_outcome                  object\n",
       "is_arrested                     bool\n",
       "stop_duration                 object\n",
       "drugs_related_stop              bool\n",
       "district                      object\n",
       "date_and_time         datetime64[ns]\n",
       "dtype: object"
      ]
     },
     "execution_count": 18,
     "metadata": {},
     "output_type": "execute_result"
    }
   ],
   "source": [
    "ri.dtypes"
   ]
  },
  {
   "cell_type": "code",
   "execution_count": 19,
   "metadata": {},
   "outputs": [],
   "source": [
    "ri.set_index('date_and_time', inplace=True)"
   ]
  },
  {
   "cell_type": "code",
   "execution_count": 20,
   "metadata": {},
   "outputs": [
    {
     "data": {
      "text/html": [
       "<div>\n",
       "<style scoped>\n",
       "    .dataframe tbody tr th:only-of-type {\n",
       "        vertical-align: middle;\n",
       "    }\n",
       "\n",
       "    .dataframe tbody tr th {\n",
       "        vertical-align: top;\n",
       "    }\n",
       "\n",
       "    .dataframe thead th {\n",
       "        text-align: right;\n",
       "    }\n",
       "</style>\n",
       "<table border=\"1\" class=\"dataframe\">\n",
       "  <thead>\n",
       "    <tr style=\"text-align: right;\">\n",
       "      <th></th>\n",
       "      <th>stop_date</th>\n",
       "      <th>stop_time</th>\n",
       "      <th>driver_gender</th>\n",
       "      <th>driver_race</th>\n",
       "      <th>violation_raw</th>\n",
       "      <th>violation</th>\n",
       "      <th>search_conducted</th>\n",
       "      <th>search_type</th>\n",
       "      <th>stop_outcome</th>\n",
       "      <th>is_arrested</th>\n",
       "      <th>stop_duration</th>\n",
       "      <th>drugs_related_stop</th>\n",
       "      <th>district</th>\n",
       "    </tr>\n",
       "    <tr>\n",
       "      <th>date_and_time</th>\n",
       "      <th></th>\n",
       "      <th></th>\n",
       "      <th></th>\n",
       "      <th></th>\n",
       "      <th></th>\n",
       "      <th></th>\n",
       "      <th></th>\n",
       "      <th></th>\n",
       "      <th></th>\n",
       "      <th></th>\n",
       "      <th></th>\n",
       "      <th></th>\n",
       "      <th></th>\n",
       "    </tr>\n",
       "  </thead>\n",
       "  <tbody>\n",
       "    <tr>\n",
       "      <th>2005-01-04 12:55:00</th>\n",
       "      <td>2005-01-04</td>\n",
       "      <td>12:55</td>\n",
       "      <td>M</td>\n",
       "      <td>White</td>\n",
       "      <td>Equipment/Inspection Violation</td>\n",
       "      <td>Equipment</td>\n",
       "      <td>False</td>\n",
       "      <td>NaN</td>\n",
       "      <td>Citation</td>\n",
       "      <td>False</td>\n",
       "      <td>0-15 Min</td>\n",
       "      <td>False</td>\n",
       "      <td>Zone X4</td>\n",
       "    </tr>\n",
       "    <tr>\n",
       "      <th>2005-01-23 23:15:00</th>\n",
       "      <td>2005-01-23</td>\n",
       "      <td>23:15</td>\n",
       "      <td>M</td>\n",
       "      <td>White</td>\n",
       "      <td>Speeding</td>\n",
       "      <td>Speeding</td>\n",
       "      <td>False</td>\n",
       "      <td>NaN</td>\n",
       "      <td>Citation</td>\n",
       "      <td>False</td>\n",
       "      <td>0-15 Min</td>\n",
       "      <td>False</td>\n",
       "      <td>Zone K3</td>\n",
       "    </tr>\n",
       "    <tr>\n",
       "      <th>2005-02-17 04:15:00</th>\n",
       "      <td>2005-02-17</td>\n",
       "      <td>04:15</td>\n",
       "      <td>M</td>\n",
       "      <td>White</td>\n",
       "      <td>Speeding</td>\n",
       "      <td>Speeding</td>\n",
       "      <td>False</td>\n",
       "      <td>NaN</td>\n",
       "      <td>Citation</td>\n",
       "      <td>False</td>\n",
       "      <td>0-15 Min</td>\n",
       "      <td>False</td>\n",
       "      <td>Zone X4</td>\n",
       "    </tr>\n",
       "    <tr>\n",
       "      <th>2005-02-20 17:15:00</th>\n",
       "      <td>2005-02-20</td>\n",
       "      <td>17:15</td>\n",
       "      <td>M</td>\n",
       "      <td>White</td>\n",
       "      <td>Call for Service</td>\n",
       "      <td>Other</td>\n",
       "      <td>False</td>\n",
       "      <td>NaN</td>\n",
       "      <td>Arrest Driver</td>\n",
       "      <td>True</td>\n",
       "      <td>16-30 Min</td>\n",
       "      <td>False</td>\n",
       "      <td>Zone X1</td>\n",
       "    </tr>\n",
       "    <tr>\n",
       "      <th>2005-02-24 01:20:00</th>\n",
       "      <td>2005-02-24</td>\n",
       "      <td>01:20</td>\n",
       "      <td>F</td>\n",
       "      <td>White</td>\n",
       "      <td>Speeding</td>\n",
       "      <td>Speeding</td>\n",
       "      <td>False</td>\n",
       "      <td>NaN</td>\n",
       "      <td>Citation</td>\n",
       "      <td>False</td>\n",
       "      <td>0-15 Min</td>\n",
       "      <td>False</td>\n",
       "      <td>Zone X3</td>\n",
       "    </tr>\n",
       "  </tbody>\n",
       "</table>\n",
       "</div>"
      ],
      "text/plain": [
       "                      stop_date stop_time driver_gender driver_race  \\\n",
       "date_and_time                                                         \n",
       "2005-01-04 12:55:00  2005-01-04     12:55             M       White   \n",
       "2005-01-23 23:15:00  2005-01-23     23:15             M       White   \n",
       "2005-02-17 04:15:00  2005-02-17     04:15             M       White   \n",
       "2005-02-20 17:15:00  2005-02-20     17:15             M       White   \n",
       "2005-02-24 01:20:00  2005-02-24     01:20             F       White   \n",
       "\n",
       "                                      violation_raw  violation  \\\n",
       "date_and_time                                                    \n",
       "2005-01-04 12:55:00  Equipment/Inspection Violation  Equipment   \n",
       "2005-01-23 23:15:00                        Speeding   Speeding   \n",
       "2005-02-17 04:15:00                        Speeding   Speeding   \n",
       "2005-02-20 17:15:00                Call for Service      Other   \n",
       "2005-02-24 01:20:00                        Speeding   Speeding   \n",
       "\n",
       "                     search_conducted search_type   stop_outcome  is_arrested  \\\n",
       "date_and_time                                                                   \n",
       "2005-01-04 12:55:00             False         NaN       Citation        False   \n",
       "2005-01-23 23:15:00             False         NaN       Citation        False   \n",
       "2005-02-17 04:15:00             False         NaN       Citation        False   \n",
       "2005-02-20 17:15:00             False         NaN  Arrest Driver         True   \n",
       "2005-02-24 01:20:00             False         NaN       Citation        False   \n",
       "\n",
       "                    stop_duration  drugs_related_stop district  \n",
       "date_and_time                                                   \n",
       "2005-01-04 12:55:00      0-15 Min               False  Zone X4  \n",
       "2005-01-23 23:15:00      0-15 Min               False  Zone K3  \n",
       "2005-02-17 04:15:00      0-15 Min               False  Zone X4  \n",
       "2005-02-20 17:15:00     16-30 Min               False  Zone X1  \n",
       "2005-02-24 01:20:00      0-15 Min               False  Zone X3  "
      ]
     },
     "execution_count": 20,
     "metadata": {},
     "output_type": "execute_result"
    }
   ],
   "source": [
    "ri.head()"
   ]
  },
  {
   "cell_type": "code",
   "execution_count": 21,
   "metadata": {},
   "outputs": [
    {
     "data": {
      "text/plain": [
       "DatetimeIndex(['2005-01-04 12:55:00', '2005-01-23 23:15:00',\n",
       "               '2005-02-17 04:15:00', '2005-02-20 17:15:00',\n",
       "               '2005-02-24 01:20:00', '2005-03-14 10:00:00',\n",
       "               '2005-03-29 21:55:00', '2005-04-04 21:25:00',\n",
       "               '2005-07-14 11:20:00', '2005-07-14 19:55:00',\n",
       "               ...\n",
       "               '2015-12-31 13:23:00', '2015-12-31 18:59:00',\n",
       "               '2015-12-31 19:13:00', '2015-12-31 20:20:00',\n",
       "               '2015-12-31 20:50:00', '2015-12-31 21:21:00',\n",
       "               '2015-12-31 21:59:00', '2015-12-31 22:04:00',\n",
       "               '2015-12-31 22:09:00', '2015-12-31 22:47:00'],\n",
       "              dtype='datetime64[ns]', name='date_and_time', length=86536, freq=None)"
      ]
     },
     "execution_count": 21,
     "metadata": {},
     "output_type": "execute_result"
    }
   ],
   "source": [
    "ri.index"
   ]
  },
  {
   "cell_type": "markdown",
   "metadata": {},
   "source": [
    "Genders and Violations"
   ]
  },
  {
   "cell_type": "code",
   "execution_count": 22,
   "metadata": {},
   "outputs": [
    {
     "data": {
      "text/plain": [
       "Citation            77091\n",
       "Warning              5136\n",
       "Arrest Driver        2735\n",
       "No Action             624\n",
       "N/D                   607\n",
       "Arrest Passenger      343\n",
       "Name: stop_outcome, dtype: int64"
      ]
     },
     "execution_count": 22,
     "metadata": {},
     "output_type": "execute_result"
    }
   ],
   "source": [
    "# value_counts - counts unique values\n",
    "# best for categorical data\n",
    "ri.stop_outcome.value_counts()"
   ]
  },
  {
   "cell_type": "code",
   "execution_count": 25,
   "metadata": {},
   "outputs": [
    {
     "data": {
      "text/plain": [
       "Citation            0.890855\n",
       "Warning             0.059351\n",
       "Arrest Driver       0.031605\n",
       "No Action           0.007211\n",
       "N/D                 0.007014\n",
       "Arrest Passenger    0.003964\n",
       "Name: stop_outcome, dtype: float64"
      ]
     },
     "execution_count": 25,
     "metadata": {},
     "output_type": "execute_result"
    }
   ],
   "source": [
    "# what percentage are each category\n",
    "ri.stop_outcome.value_counts(normalize=True)"
   ]
  },
  {
   "cell_type": "code",
   "execution_count": 27,
   "metadata": {},
   "outputs": [
    {
     "data": {
      "text/plain": [
       "White       61870\n",
       "Black       12285\n",
       "Hispanic     9727\n",
       "Asian        2389\n",
       "Other         265\n",
       "Name: driver_race, dtype: int64"
      ]
     },
     "execution_count": 27,
     "metadata": {},
     "output_type": "execute_result"
    }
   ],
   "source": [
    "ri.driver_race.value_counts()"
   ]
  },
  {
   "cell_type": "code",
   "execution_count": 29,
   "metadata": {},
   "outputs": [
    {
     "data": {
      "text/plain": [
       "(61870, 13)"
      ]
     },
     "execution_count": 29,
     "metadata": {},
     "output_type": "execute_result"
    }
   ],
   "source": [
    "white = ri[ri.driver_race == 'White']\n",
    "white.shape"
   ]
  },
  {
   "cell_type": "code",
   "execution_count": 30,
   "metadata": {},
   "outputs": [
    {
     "data": {
      "text/plain": [
       "Citation            0.902263\n",
       "Warning             0.057508\n",
       "Arrest Driver       0.024018\n",
       "No Action           0.007031\n",
       "N/D                 0.006433\n",
       "Arrest Passenger    0.002748\n",
       "Name: stop_outcome, dtype: float64"
      ]
     },
     "execution_count": 30,
     "metadata": {},
     "output_type": "execute_result"
    }
   ],
   "source": [
    "white.stop_outcome.value_counts(normalize=True)"
   ]
  },
  {
   "cell_type": "code",
   "execution_count": 32,
   "metadata": {},
   "outputs": [
    {
     "data": {
      "text/plain": [
       "Citation            0.922980\n",
       "Warning             0.045207\n",
       "Arrest Driver       0.017581\n",
       "No Action           0.008372\n",
       "N/D                 0.004186\n",
       "Arrest Passenger    0.001674\n",
       "Name: stop_outcome, dtype: float64"
      ]
     },
     "execution_count": 32,
     "metadata": {},
     "output_type": "execute_result"
    }
   ],
   "source": [
    "asian = ri[ri.driver_race == 'Asian']\n",
    "asian.stop_outcome.value_counts(normalize=True)"
   ]
  },
  {
   "cell_type": "code",
   "execution_count": 37,
   "metadata": {},
   "outputs": [
    {
     "data": {
      "text/plain": [
       "Speeding               48423\n",
       "Moving violation       16224\n",
       "Equipment              10921\n",
       "Other                   4409\n",
       "Registration/plates     3703\n",
       "Seat belt               2856\n",
       "Name: violation, dtype: int64"
      ]
     },
     "execution_count": 37,
     "metadata": {},
     "output_type": "execute_result"
    }
   ],
   "source": [
    "ri.violation.value_counts()"
   ]
  },
  {
   "cell_type": "code",
   "execution_count": 38,
   "metadata": {},
   "outputs": [
    {
     "data": {
      "text/plain": [
       "Speeding               0.559571\n",
       "Moving violation       0.187483\n",
       "Equipment              0.126202\n",
       "Other                  0.050950\n",
       "Registration/plates    0.042791\n",
       "Seat belt              0.033004\n",
       "Name: violation, dtype: float64"
      ]
     },
     "execution_count": 38,
     "metadata": {},
     "output_type": "execute_result"
    }
   ],
   "source": [
    "ri.violation.value_counts(normalize=True)"
   ]
  },
  {
   "cell_type": "code",
   "execution_count": 42,
   "metadata": {},
   "outputs": [],
   "source": [
    "female = ri[ri.driver_gender == 'F']\n",
    "male = ri[ri.driver_gender == 'M']\n"
   ]
  },
  {
   "cell_type": "code",
   "execution_count": 43,
   "metadata": {},
   "outputs": [
    {
     "data": {
      "text/plain": [
       "Speeding               0.658114\n",
       "Moving violation       0.138218\n",
       "Equipment              0.105199\n",
       "Registration/plates    0.044418\n",
       "Other                  0.029738\n",
       "Seat belt              0.024312\n",
       "Name: violation, dtype: float64"
      ]
     },
     "execution_count": 43,
     "metadata": {},
     "output_type": "execute_result"
    }
   ],
   "source": [
    "female.violation.value_counts(normalize=True)"
   ]
  },
  {
   "cell_type": "code",
   "execution_count": 44,
   "metadata": {},
   "outputs": [
    {
     "data": {
      "text/plain": [
       "Speeding               0.522243\n",
       "Moving violation       0.206144\n",
       "Equipment              0.134158\n",
       "Other                  0.058985\n",
       "Registration/plates    0.042175\n",
       "Seat belt              0.036296\n",
       "Name: violation, dtype: float64"
      ]
     },
     "execution_count": 44,
     "metadata": {},
     "output_type": "execute_result"
    }
   ],
   "source": [
    "male.violation.value_counts(normalize=True)"
   ]
  },
  {
   "cell_type": "markdown",
   "metadata": {},
   "source": [
    "Gender and who gets a speeding ticket"
   ]
  },
  {
   "cell_type": "code",
   "execution_count": 45,
   "metadata": {},
   "outputs": [
    {
     "data": {
      "text/plain": [
       "(23774, 13)"
      ]
     },
     "execution_count": 45,
     "metadata": {},
     "output_type": "execute_result"
    }
   ],
   "source": [
    "female.shape"
   ]
  },
  {
   "cell_type": "code",
   "execution_count": 46,
   "metadata": {},
   "outputs": [
    {
     "data": {
      "text/plain": [
       "(62762, 13)"
      ]
     },
     "execution_count": 46,
     "metadata": {},
     "output_type": "execute_result"
    }
   ],
   "source": [
    "male.shape"
   ]
  },
  {
   "cell_type": "code",
   "execution_count": 48,
   "metadata": {},
   "outputs": [],
   "source": [
    "female_and_arrested = ri[(ri.driver_gender == 'F') & (ri.is_arrested == True)]"
   ]
  },
  {
   "cell_type": "code",
   "execution_count": 49,
   "metadata": {},
   "outputs": [],
   "source": [
    "male_and_arrested = ri[(ri.driver_gender == 'M') & (ri.is_arrested == True)]"
   ]
  },
  {
   "cell_type": "code",
   "execution_count": 50,
   "metadata": {},
   "outputs": [],
   "source": [
    "female_and_speeding = ri[(ri.driver_gender == 'F') & (ri.violation == 'Speeding')]"
   ]
  },
  {
   "cell_type": "code",
   "execution_count": 51,
   "metadata": {},
   "outputs": [],
   "source": [
    "male_and_speeding = ri[(ri.driver_gender == 'M') & (ri.violation == 'Speeding')]"
   ]
  },
  {
   "cell_type": "code",
   "execution_count": 53,
   "metadata": {},
   "outputs": [
    {
     "data": {
      "text/plain": [
       "Citation            0.952192\n",
       "Warning             0.040074\n",
       "Arrest Driver       0.005752\n",
       "N/D                 0.000959\n",
       "Arrest Passenger    0.000639\n",
       "No Action           0.000383\n",
       "Name: stop_outcome, dtype: float64"
      ]
     },
     "execution_count": 53,
     "metadata": {},
     "output_type": "execute_result"
    }
   ],
   "source": [
    "female_and_speeding.stop_outcome.value_counts(normalize=True)"
   ]
  },
  {
   "cell_type": "code",
   "execution_count": 54,
   "metadata": {},
   "outputs": [
    {
     "data": {
      "text/plain": [
       "Citation            0.944595\n",
       "Warning             0.036184\n",
       "Arrest Driver       0.015895\n",
       "Arrest Passenger    0.001281\n",
       "No Action           0.001068\n",
       "N/D                 0.000976\n",
       "Name: stop_outcome, dtype: float64"
      ]
     },
     "execution_count": 54,
     "metadata": {},
     "output_type": "execute_result"
    }
   ],
   "source": [
    "male_and_speeding.stop_outcome.value_counts(normalize=True)"
   ]
  },
  {
   "cell_type": "markdown",
   "metadata": {},
   "source": [
    "Does Gender impact the search outcome"
   ]
  },
  {
   "cell_type": "code",
   "execution_count": 55,
   "metadata": {},
   "outputs": [
    {
     "data": {
      "text/plain": [
       "False    0.964431\n",
       "True     0.035569\n",
       "Name: is_arrested, dtype: float64"
      ]
     },
     "execution_count": 55,
     "metadata": {},
     "output_type": "execute_result"
    }
   ],
   "source": [
    "ri.is_arrested.value_counts(normalize=True)"
   ]
  },
  {
   "cell_type": "code",
   "execution_count": 57,
   "metadata": {},
   "outputs": [
    {
     "data": {
      "text/plain": [
       "0.0355690117407784"
      ]
     },
     "execution_count": 57,
     "metadata": {},
     "output_type": "execute_result"
    }
   ],
   "source": [
    "ri.is_arrested.mean()"
   ]
  },
  {
   "cell_type": "code",
   "execution_count": 58,
   "metadata": {},
   "outputs": [
    {
     "data": {
      "text/plain": [
       "array(['Zone X4', 'Zone K3', 'Zone X1', 'Zone X3', 'Zone K1', 'Zone K2'],\n",
       "      dtype=object)"
      ]
     },
     "execution_count": 58,
     "metadata": {},
     "output_type": "execute_result"
    }
   ],
   "source": [
    "# arrest rate by police district\n",
    "ri.district.unique()"
   ]
  },
  {
   "cell_type": "code",
   "execution_count": 61,
   "metadata": {},
   "outputs": [
    {
     "data": {
      "text/plain": [
       "district\n",
       "Zone K1    0.024349\n",
       "Zone K2    0.030801\n",
       "Zone K3    0.032311\n",
       "Zone X1    0.023494\n",
       "Zone X3    0.034871\n",
       "Zone X4    0.048038\n",
       "Name: is_arrested, dtype: float64"
      ]
     },
     "execution_count": 61,
     "metadata": {},
     "output_type": "execute_result"
    }
   ],
   "source": [
    "ri.groupby(['district']).is_arrested.mean()"
   ]
  },
  {
   "cell_type": "code",
   "execution_count": 62,
   "metadata": {},
   "outputs": [
    {
     "data": {
      "text/plain": [
       "district  driver_gender\n",
       "Zone K1   F                0.019169\n",
       "          M                0.026588\n",
       "Zone K2   F                0.022196\n",
       "          M                0.034285\n",
       "Zone K3   F                0.025156\n",
       "          M                0.034961\n",
       "Zone X1   F                0.019646\n",
       "          M                0.024563\n",
       "Zone X3   F                0.027188\n",
       "          M                0.038166\n",
       "Zone X4   F                0.042149\n",
       "          M                0.049956\n",
       "Name: is_arrested, dtype: float64"
      ]
     },
     "execution_count": 62,
     "metadata": {},
     "output_type": "execute_result"
    }
   ],
   "source": [
    "ri.groupby(['district', 'driver_gender']).is_arrested.mean()"
   ]
  },
  {
   "cell_type": "code",
   "execution_count": 63,
   "metadata": {},
   "outputs": [
    {
     "data": {
      "text/plain": [
       "False    0.961785\n",
       "True     0.038215\n",
       "Name: search_conducted, dtype: float64"
      ]
     },
     "execution_count": 63,
     "metadata": {},
     "output_type": "execute_result"
    }
   ],
   "source": [
    "ri.search_conducted.value_counts(normalize=True)"
   ]
  },
  {
   "cell_type": "code",
   "execution_count": 64,
   "metadata": {},
   "outputs": [
    {
     "data": {
      "text/plain": [
       "0.0382153092354627"
      ]
     },
     "execution_count": 64,
     "metadata": {},
     "output_type": "execute_result"
    }
   ],
   "source": [
    "ri.search_conducted.mean()"
   ]
  },
  {
   "cell_type": "code",
   "execution_count": 66,
   "metadata": {},
   "outputs": [
    {
     "data": {
      "text/plain": [
       "driver_gender  violation          \n",
       "F              Equipment              0.039984\n",
       "               Moving violation       0.039257\n",
       "               Other                  0.041018\n",
       "               Registration/plates    0.054924\n",
       "               Seat belt              0.017301\n",
       "               Speeding               0.008309\n",
       "M              Equipment              0.071496\n",
       "               Moving violation       0.061524\n",
       "               Other                  0.046191\n",
       "               Registration/plates    0.108802\n",
       "               Seat belt              0.035119\n",
       "               Speeding               0.027885\n",
       "Name: search_conducted, dtype: float64"
      ]
     },
     "execution_count": 66,
     "metadata": {},
     "output_type": "execute_result"
    }
   ],
   "source": [
    "ri.groupby(['driver_gender', 'violation']).search_conducted.mean()"
   ]
  },
  {
   "cell_type": "markdown",
   "metadata": {},
   "source": [
    "Gender And Frisk\n",
    "\n",
    "- search_type\n",
    "\n",
    "- search_conducted"
   ]
  },
  {
   "cell_type": "code",
   "execution_count": 67,
   "metadata": {},
   "outputs": [
    {
     "data": {
      "text/plain": [
       "NaN                                                         83229\n",
       "Incident to Arrest                                           1290\n",
       "Probable Cause                                                924\n",
       "Inventory                                                     219\n",
       "Reasonable Suspicion                                          214\n",
       "Protective Frisk                                              164\n",
       "Incident to Arrest,Inventory                                  123\n",
       "Incident to Arrest,Probable Cause                             100\n",
       "Probable Cause,Reasonable Suspicion                            54\n",
       "Probable Cause,Protective Frisk                                35\n",
       "Incident to Arrest,Inventory,Probable Cause                    35\n",
       "Incident to Arrest,Protective Frisk                            33\n",
       "Inventory,Probable Cause                                       25\n",
       "Protective Frisk,Reasonable Suspicion                          19\n",
       "Incident to Arrest,Inventory,Protective Frisk                  18\n",
       "Incident to Arrest,Probable Cause,Protective Frisk             13\n",
       "Inventory,Protective Frisk                                     12\n",
       "Incident to Arrest,Reasonable Suspicion                         8\n",
       "Probable Cause,Protective Frisk,Reasonable Suspicion            5\n",
       "Incident to Arrest,Probable Cause,Reasonable Suspicion          5\n",
       "Incident to Arrest,Inventory,Reasonable Suspicion               4\n",
       "Inventory,Reasonable Suspicion                                  2\n",
       "Incident to Arrest,Protective Frisk,Reasonable Suspicion        2\n",
       "Inventory,Probable Cause,Reasonable Suspicion                   1\n",
       "Inventory,Protective Frisk,Reasonable Suspicion                 1\n",
       "Inventory,Probable Cause,Protective Frisk                       1\n",
       "Name: search_type, dtype: int64"
      ]
     },
     "execution_count": 67,
     "metadata": {},
     "output_type": "execute_result"
    }
   ],
   "source": [
    "# value_counts excludes missing values by default\n",
    "ri.search_type.value_counts(dropna=False)"
   ]
  },
  {
   "cell_type": "code",
   "execution_count": 68,
   "metadata": {},
   "outputs": [],
   "source": [
    "# search for values in a string field\n",
    "# na=False means return False for any empty/NA values\n",
    "ri['inventory'] = ri.search_type.str.contains('Inventory', na=False)"
   ]
  },
  {
   "cell_type": "code",
   "execution_count": 70,
   "metadata": {},
   "outputs": [
    {
     "data": {
      "text/plain": [
       "dtype('bool')"
      ]
     },
     "execution_count": 70,
     "metadata": {},
     "output_type": "execute_result"
    }
   ],
   "source": [
    "ri.inventory.dtype"
   ]
  },
  {
   "cell_type": "code",
   "execution_count": 72,
   "metadata": {},
   "outputs": [
    {
     "data": {
      "text/plain": [
       "441"
      ]
     },
     "execution_count": 72,
     "metadata": {},
     "output_type": "execute_result"
    }
   ],
   "source": [
    "ri.inventory.sum()"
   ]
  },
  {
   "cell_type": "code",
   "execution_count": null,
   "metadata": {},
   "outputs": [],
   "source": [
    "# inventory rate\n"
   ]
  },
  {
   "cell_type": "code",
   "execution_count": null,
   "metadata": {},
   "outputs": [],
   "source": []
  }
 ],
 "metadata": {
  "kernelspec": {
   "display_name": "Python 3",
   "language": "python",
   "name": "python3"
  },
  "language_info": {
   "codemirror_mode": {
    "name": "ipython",
    "version": 3
   },
   "file_extension": ".py",
   "mimetype": "text/x-python",
   "name": "python",
   "nbconvert_exporter": "python",
   "pygments_lexer": "ipython3",
   "version": "3.6.3"
  }
 },
 "nbformat": 4,
 "nbformat_minor": 2
}
