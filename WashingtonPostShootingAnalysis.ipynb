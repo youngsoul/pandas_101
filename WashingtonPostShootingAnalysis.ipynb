{
 "cells": [
  {
   "cell_type": "markdown",
   "id": "34f8c0f2",
   "metadata": {},
   "source": [
    "# Notebook using the Washington Post Fatal Shoots dataset\n",
    "\n",
    "https://github.com/washingtonpost/data-police-shootings\n",
    "\n",
    "This work is not meant to convey an opinion but to use the dataset and explore the data"
   ]
  },
  {
   "cell_type": "markdown",
   "id": "bf954c08",
   "metadata": {},
   "source": [
    "# Perform Initial Data Load and Clean Up"
   ]
  },
  {
   "cell_type": "code",
   "execution_count": 146,
   "id": "88816cd4",
   "metadata": {},
   "outputs": [],
   "source": [
    "import pandas as pd\n",
    "import matplotlib.pyplot as plt\n",
    "%matplotlib inline\n",
    "import seaborn as sns\n",
    "import missingno as msno\n",
    "import numpy as np"
   ]
  },
  {
   "cell_type": "code",
   "execution_count": 147,
   "id": "fe6f8e66",
   "metadata": {},
   "outputs": [],
   "source": [
    "pd.set_option(\"max_rows\", 200)"
   ]
  },
  {
   "cell_type": "code",
   "execution_count": 148,
   "id": "6e12b9e8",
   "metadata": {},
   "outputs": [],
   "source": [
    "df = pd.read_csv(\"./data/fatal-police-shootings-data.csv\")"
   ]
  },
  {
   "cell_type": "code",
   "execution_count": 149,
   "id": "f78598bf",
   "metadata": {},
   "outputs": [
    {
     "data": {
      "text/plain": [
       "(6735, 17)"
      ]
     },
     "execution_count": 149,
     "metadata": {},
     "output_type": "execute_result"
    }
   ],
   "source": [
    "df.shape"
   ]
  },
  {
   "cell_type": "code",
   "execution_count": 150,
   "id": "d4dddc17",
   "metadata": {},
   "outputs": [
    {
     "data": {
      "text/html": [
       "<div>\n",
       "<style scoped>\n",
       "    .dataframe tbody tr th:only-of-type {\n",
       "        vertical-align: middle;\n",
       "    }\n",
       "\n",
       "    .dataframe tbody tr th {\n",
       "        vertical-align: top;\n",
       "    }\n",
       "\n",
       "    .dataframe thead th {\n",
       "        text-align: right;\n",
       "    }\n",
       "</style>\n",
       "<table border=\"1\" class=\"dataframe\">\n",
       "  <thead>\n",
       "    <tr style=\"text-align: right;\">\n",
       "      <th></th>\n",
       "      <th>id</th>\n",
       "      <th>name</th>\n",
       "      <th>date</th>\n",
       "      <th>manner_of_death</th>\n",
       "      <th>armed</th>\n",
       "      <th>age</th>\n",
       "      <th>gender</th>\n",
       "      <th>race</th>\n",
       "      <th>city</th>\n",
       "      <th>state</th>\n",
       "      <th>signs_of_mental_illness</th>\n",
       "      <th>threat_level</th>\n",
       "      <th>flee</th>\n",
       "      <th>body_camera</th>\n",
       "      <th>longitude</th>\n",
       "      <th>latitude</th>\n",
       "      <th>is_geocoding_exact</th>\n",
       "    </tr>\n",
       "  </thead>\n",
       "  <tbody>\n",
       "    <tr>\n",
       "      <th>0</th>\n",
       "      <td>3</td>\n",
       "      <td>Tim Elliot</td>\n",
       "      <td>2015-01-02</td>\n",
       "      <td>shot</td>\n",
       "      <td>gun</td>\n",
       "      <td>53.0</td>\n",
       "      <td>M</td>\n",
       "      <td>A</td>\n",
       "      <td>Shelton</td>\n",
       "      <td>WA</td>\n",
       "      <td>True</td>\n",
       "      <td>attack</td>\n",
       "      <td>Not fleeing</td>\n",
       "      <td>False</td>\n",
       "      <td>-123.122</td>\n",
       "      <td>47.247</td>\n",
       "      <td>True</td>\n",
       "    </tr>\n",
       "    <tr>\n",
       "      <th>1</th>\n",
       "      <td>4</td>\n",
       "      <td>Lewis Lee Lembke</td>\n",
       "      <td>2015-01-02</td>\n",
       "      <td>shot</td>\n",
       "      <td>gun</td>\n",
       "      <td>47.0</td>\n",
       "      <td>M</td>\n",
       "      <td>W</td>\n",
       "      <td>Aloha</td>\n",
       "      <td>OR</td>\n",
       "      <td>False</td>\n",
       "      <td>attack</td>\n",
       "      <td>Not fleeing</td>\n",
       "      <td>False</td>\n",
       "      <td>-122.892</td>\n",
       "      <td>45.487</td>\n",
       "      <td>True</td>\n",
       "    </tr>\n",
       "    <tr>\n",
       "      <th>2</th>\n",
       "      <td>5</td>\n",
       "      <td>John Paul Quintero</td>\n",
       "      <td>2015-01-03</td>\n",
       "      <td>shot and Tasered</td>\n",
       "      <td>unarmed</td>\n",
       "      <td>23.0</td>\n",
       "      <td>M</td>\n",
       "      <td>H</td>\n",
       "      <td>Wichita</td>\n",
       "      <td>KS</td>\n",
       "      <td>False</td>\n",
       "      <td>other</td>\n",
       "      <td>Not fleeing</td>\n",
       "      <td>False</td>\n",
       "      <td>-97.281</td>\n",
       "      <td>37.695</td>\n",
       "      <td>True</td>\n",
       "    </tr>\n",
       "    <tr>\n",
       "      <th>3</th>\n",
       "      <td>8</td>\n",
       "      <td>Matthew Hoffman</td>\n",
       "      <td>2015-01-04</td>\n",
       "      <td>shot</td>\n",
       "      <td>toy weapon</td>\n",
       "      <td>32.0</td>\n",
       "      <td>M</td>\n",
       "      <td>W</td>\n",
       "      <td>San Francisco</td>\n",
       "      <td>CA</td>\n",
       "      <td>True</td>\n",
       "      <td>attack</td>\n",
       "      <td>Not fleeing</td>\n",
       "      <td>False</td>\n",
       "      <td>-122.422</td>\n",
       "      <td>37.763</td>\n",
       "      <td>True</td>\n",
       "    </tr>\n",
       "    <tr>\n",
       "      <th>4</th>\n",
       "      <td>9</td>\n",
       "      <td>Michael Rodriguez</td>\n",
       "      <td>2015-01-04</td>\n",
       "      <td>shot</td>\n",
       "      <td>nail gun</td>\n",
       "      <td>39.0</td>\n",
       "      <td>M</td>\n",
       "      <td>H</td>\n",
       "      <td>Evans</td>\n",
       "      <td>CO</td>\n",
       "      <td>False</td>\n",
       "      <td>attack</td>\n",
       "      <td>Not fleeing</td>\n",
       "      <td>False</td>\n",
       "      <td>-104.692</td>\n",
       "      <td>40.384</td>\n",
       "      <td>True</td>\n",
       "    </tr>\n",
       "  </tbody>\n",
       "</table>\n",
       "</div>"
      ],
      "text/plain": [
       "   id                name        date   manner_of_death       armed   age  \\\n",
       "0   3          Tim Elliot  2015-01-02              shot         gun  53.0   \n",
       "1   4    Lewis Lee Lembke  2015-01-02              shot         gun  47.0   \n",
       "2   5  John Paul Quintero  2015-01-03  shot and Tasered     unarmed  23.0   \n",
       "3   8     Matthew Hoffman  2015-01-04              shot  toy weapon  32.0   \n",
       "4   9   Michael Rodriguez  2015-01-04              shot    nail gun  39.0   \n",
       "\n",
       "  gender race           city state  signs_of_mental_illness threat_level  \\\n",
       "0      M    A        Shelton    WA                     True       attack   \n",
       "1      M    W          Aloha    OR                    False       attack   \n",
       "2      M    H        Wichita    KS                    False        other   \n",
       "3      M    W  San Francisco    CA                     True       attack   \n",
       "4      M    H          Evans    CO                    False       attack   \n",
       "\n",
       "          flee  body_camera  longitude  latitude  is_geocoding_exact  \n",
       "0  Not fleeing        False   -123.122    47.247                True  \n",
       "1  Not fleeing        False   -122.892    45.487                True  \n",
       "2  Not fleeing        False    -97.281    37.695                True  \n",
       "3  Not fleeing        False   -122.422    37.763                True  \n",
       "4  Not fleeing        False   -104.692    40.384                True  "
      ]
     },
     "execution_count": 150,
     "metadata": {},
     "output_type": "execute_result"
    }
   ],
   "source": [
    "df.head()"
   ]
  },
  {
   "cell_type": "code",
   "execution_count": 151,
   "id": "2f6da053",
   "metadata": {},
   "outputs": [
    {
     "data": {
      "text/plain": [
       "id                           int64\n",
       "name                        object\n",
       "date                        object\n",
       "manner_of_death             object\n",
       "armed                       object\n",
       "age                        float64\n",
       "gender                      object\n",
       "race                        object\n",
       "city                        object\n",
       "state                       object\n",
       "signs_of_mental_illness       bool\n",
       "threat_level                object\n",
       "flee                        object\n",
       "body_camera                   bool\n",
       "longitude                  float64\n",
       "latitude                   float64\n",
       "is_geocoding_exact            bool\n",
       "dtype: object"
      ]
     },
     "execution_count": 151,
     "metadata": {},
     "output_type": "execute_result"
    }
   ],
   "source": [
    "df.dtypes"
   ]
  },
  {
   "cell_type": "markdown",
   "id": "6db0157a",
   "metadata": {},
   "source": [
    "Notice date is an 'object', convert that to datetime"
   ]
  },
  {
   "cell_type": "code",
   "execution_count": 152,
   "id": "1d97aa89",
   "metadata": {},
   "outputs": [],
   "source": [
    "df.date = pd.to_datetime(df.date)\n",
    "df['year'] = df.date.dt.year\n",
    "df['month'] = df.date.dt.month"
   ]
  },
  {
   "cell_type": "code",
   "execution_count": 153,
   "id": "7fd9207c",
   "metadata": {},
   "outputs": [
    {
     "data": {
      "text/plain": [
       "id                                  int64\n",
       "name                               object\n",
       "date                       datetime64[ns]\n",
       "manner_of_death                    object\n",
       "armed                              object\n",
       "age                               float64\n",
       "gender                             object\n",
       "race                               object\n",
       "city                               object\n",
       "state                              object\n",
       "signs_of_mental_illness              bool\n",
       "threat_level                       object\n",
       "flee                               object\n",
       "body_camera                          bool\n",
       "longitude                         float64\n",
       "latitude                          float64\n",
       "is_geocoding_exact                   bool\n",
       "year                                int64\n",
       "month                               int64\n",
       "dtype: object"
      ]
     },
     "execution_count": 153,
     "metadata": {},
     "output_type": "execute_result"
    }
   ],
   "source": [
    "df.dtypes"
   ]
  },
  {
   "cell_type": "markdown",
   "id": "20c5b0be",
   "metadata": {},
   "source": [
    "What are the min / max dates and what time range does this data cover?"
   ]
  },
  {
   "cell_type": "code",
   "execution_count": 154,
   "id": "f0183887",
   "metadata": {},
   "outputs": [
    {
     "data": {
      "text/plain": [
       "Timestamp('2015-01-02 00:00:00')"
      ]
     },
     "execution_count": 154,
     "metadata": {},
     "output_type": "execute_result"
    }
   ],
   "source": [
    "min_date = df.date.min()\n",
    "min_date"
   ]
  },
  {
   "cell_type": "code",
   "execution_count": 155,
   "id": "0c15e629",
   "metadata": {},
   "outputs": [
    {
     "data": {
      "text/plain": [
       "Timestamp('2021-11-16 00:00:00')"
      ]
     },
     "execution_count": 155,
     "metadata": {},
     "output_type": "execute_result"
    }
   ],
   "source": [
    "max_date =df.date.max()\n",
    "max_date"
   ]
  },
  {
   "cell_type": "code",
   "execution_count": 156,
   "id": "b9fedfc1",
   "metadata": {},
   "outputs": [
    {
     "data": {
      "text/plain": [
       "6.876712328767123"
      ]
     },
     "execution_count": 156,
     "metadata": {},
     "output_type": "execute_result"
    }
   ],
   "source": [
    "time_range = max_date - min_date\n",
    "time_range.days/365"
   ]
  },
  {
   "cell_type": "markdown",
   "id": "6da2a400",
   "metadata": {},
   "source": [
    "Drop the 'id' column"
   ]
  },
  {
   "cell_type": "code",
   "execution_count": 157,
   "id": "0df02e62",
   "metadata": {},
   "outputs": [],
   "source": [
    "df = df.drop(columns=['id'])"
   ]
  },
  {
   "cell_type": "code",
   "execution_count": 158,
   "id": "f8767209",
   "metadata": {},
   "outputs": [
    {
     "data": {
      "text/html": [
       "<div>\n",
       "<style scoped>\n",
       "    .dataframe tbody tr th:only-of-type {\n",
       "        vertical-align: middle;\n",
       "    }\n",
       "\n",
       "    .dataframe tbody tr th {\n",
       "        vertical-align: top;\n",
       "    }\n",
       "\n",
       "    .dataframe thead th {\n",
       "        text-align: right;\n",
       "    }\n",
       "</style>\n",
       "<table border=\"1\" class=\"dataframe\">\n",
       "  <thead>\n",
       "    <tr style=\"text-align: right;\">\n",
       "      <th></th>\n",
       "      <th>name</th>\n",
       "      <th>date</th>\n",
       "      <th>manner_of_death</th>\n",
       "      <th>armed</th>\n",
       "      <th>age</th>\n",
       "      <th>gender</th>\n",
       "      <th>race</th>\n",
       "      <th>city</th>\n",
       "      <th>state</th>\n",
       "      <th>signs_of_mental_illness</th>\n",
       "      <th>threat_level</th>\n",
       "      <th>flee</th>\n",
       "      <th>body_camera</th>\n",
       "      <th>longitude</th>\n",
       "      <th>latitude</th>\n",
       "      <th>is_geocoding_exact</th>\n",
       "      <th>year</th>\n",
       "      <th>month</th>\n",
       "    </tr>\n",
       "  </thead>\n",
       "  <tbody>\n",
       "    <tr>\n",
       "      <th>0</th>\n",
       "      <td>Tim Elliot</td>\n",
       "      <td>2015-01-02</td>\n",
       "      <td>shot</td>\n",
       "      <td>gun</td>\n",
       "      <td>53.0</td>\n",
       "      <td>M</td>\n",
       "      <td>A</td>\n",
       "      <td>Shelton</td>\n",
       "      <td>WA</td>\n",
       "      <td>True</td>\n",
       "      <td>attack</td>\n",
       "      <td>Not fleeing</td>\n",
       "      <td>False</td>\n",
       "      <td>-123.122</td>\n",
       "      <td>47.247</td>\n",
       "      <td>True</td>\n",
       "      <td>2015</td>\n",
       "      <td>1</td>\n",
       "    </tr>\n",
       "    <tr>\n",
       "      <th>1</th>\n",
       "      <td>Lewis Lee Lembke</td>\n",
       "      <td>2015-01-02</td>\n",
       "      <td>shot</td>\n",
       "      <td>gun</td>\n",
       "      <td>47.0</td>\n",
       "      <td>M</td>\n",
       "      <td>W</td>\n",
       "      <td>Aloha</td>\n",
       "      <td>OR</td>\n",
       "      <td>False</td>\n",
       "      <td>attack</td>\n",
       "      <td>Not fleeing</td>\n",
       "      <td>False</td>\n",
       "      <td>-122.892</td>\n",
       "      <td>45.487</td>\n",
       "      <td>True</td>\n",
       "      <td>2015</td>\n",
       "      <td>1</td>\n",
       "    </tr>\n",
       "    <tr>\n",
       "      <th>2</th>\n",
       "      <td>John Paul Quintero</td>\n",
       "      <td>2015-01-03</td>\n",
       "      <td>shot and Tasered</td>\n",
       "      <td>unarmed</td>\n",
       "      <td>23.0</td>\n",
       "      <td>M</td>\n",
       "      <td>H</td>\n",
       "      <td>Wichita</td>\n",
       "      <td>KS</td>\n",
       "      <td>False</td>\n",
       "      <td>other</td>\n",
       "      <td>Not fleeing</td>\n",
       "      <td>False</td>\n",
       "      <td>-97.281</td>\n",
       "      <td>37.695</td>\n",
       "      <td>True</td>\n",
       "      <td>2015</td>\n",
       "      <td>1</td>\n",
       "    </tr>\n",
       "    <tr>\n",
       "      <th>3</th>\n",
       "      <td>Matthew Hoffman</td>\n",
       "      <td>2015-01-04</td>\n",
       "      <td>shot</td>\n",
       "      <td>toy weapon</td>\n",
       "      <td>32.0</td>\n",
       "      <td>M</td>\n",
       "      <td>W</td>\n",
       "      <td>San Francisco</td>\n",
       "      <td>CA</td>\n",
       "      <td>True</td>\n",
       "      <td>attack</td>\n",
       "      <td>Not fleeing</td>\n",
       "      <td>False</td>\n",
       "      <td>-122.422</td>\n",
       "      <td>37.763</td>\n",
       "      <td>True</td>\n",
       "      <td>2015</td>\n",
       "      <td>1</td>\n",
       "    </tr>\n",
       "    <tr>\n",
       "      <th>4</th>\n",
       "      <td>Michael Rodriguez</td>\n",
       "      <td>2015-01-04</td>\n",
       "      <td>shot</td>\n",
       "      <td>nail gun</td>\n",
       "      <td>39.0</td>\n",
       "      <td>M</td>\n",
       "      <td>H</td>\n",
       "      <td>Evans</td>\n",
       "      <td>CO</td>\n",
       "      <td>False</td>\n",
       "      <td>attack</td>\n",
       "      <td>Not fleeing</td>\n",
       "      <td>False</td>\n",
       "      <td>-104.692</td>\n",
       "      <td>40.384</td>\n",
       "      <td>True</td>\n",
       "      <td>2015</td>\n",
       "      <td>1</td>\n",
       "    </tr>\n",
       "  </tbody>\n",
       "</table>\n",
       "</div>"
      ],
      "text/plain": [
       "                 name       date   manner_of_death       armed   age gender  \\\n",
       "0          Tim Elliot 2015-01-02              shot         gun  53.0      M   \n",
       "1    Lewis Lee Lembke 2015-01-02              shot         gun  47.0      M   \n",
       "2  John Paul Quintero 2015-01-03  shot and Tasered     unarmed  23.0      M   \n",
       "3     Matthew Hoffman 2015-01-04              shot  toy weapon  32.0      M   \n",
       "4   Michael Rodriguez 2015-01-04              shot    nail gun  39.0      M   \n",
       "\n",
       "  race           city state  signs_of_mental_illness threat_level  \\\n",
       "0    A        Shelton    WA                     True       attack   \n",
       "1    W          Aloha    OR                    False       attack   \n",
       "2    H        Wichita    KS                    False        other   \n",
       "3    W  San Francisco    CA                     True       attack   \n",
       "4    H          Evans    CO                    False       attack   \n",
       "\n",
       "          flee  body_camera  longitude  latitude  is_geocoding_exact  year  \\\n",
       "0  Not fleeing        False   -123.122    47.247                True  2015   \n",
       "1  Not fleeing        False   -122.892    45.487                True  2015   \n",
       "2  Not fleeing        False    -97.281    37.695                True  2015   \n",
       "3  Not fleeing        False   -122.422    37.763                True  2015   \n",
       "4  Not fleeing        False   -104.692    40.384                True  2015   \n",
       "\n",
       "   month  \n",
       "0      1  \n",
       "1      1  \n",
       "2      1  \n",
       "3      1  \n",
       "4      1  "
      ]
     },
     "execution_count": 158,
     "metadata": {},
     "output_type": "execute_result"
    }
   ],
   "source": [
    "df.head()"
   ]
  },
  {
   "cell_type": "markdown",
   "id": "59b833aa",
   "metadata": {},
   "source": [
    "Look for missing data"
   ]
  },
  {
   "cell_type": "code",
   "execution_count": 159,
   "id": "e154f173",
   "metadata": {},
   "outputs": [
    {
     "data": {
      "text/plain": [
       "name                       272\n",
       "date                         0\n",
       "manner_of_death              0\n",
       "armed                      206\n",
       "age                        326\n",
       "gender                       5\n",
       "race                       882\n",
       "city                         0\n",
       "state                        0\n",
       "signs_of_mental_illness      0\n",
       "threat_level                 0\n",
       "flee                       520\n",
       "body_camera                  0\n",
       "longitude                  321\n",
       "latitude                   321\n",
       "is_geocoding_exact           0\n",
       "year                         0\n",
       "month                        0\n",
       "dtype: int64"
      ]
     },
     "execution_count": 159,
     "metadata": {},
     "output_type": "execute_result"
    }
   ],
   "source": [
    "df.isna().sum()"
   ]
  },
  {
   "cell_type": "code",
   "execution_count": 160,
   "id": "e61e507a",
   "metadata": {},
   "outputs": [
    {
     "data": {
      "text/plain": [
       "name                        4.04\n",
       "date                        0.00\n",
       "manner_of_death             0.00\n",
       "armed                       3.06\n",
       "age                         4.84\n",
       "gender                      0.07\n",
       "race                       13.10\n",
       "city                        0.00\n",
       "state                       0.00\n",
       "signs_of_mental_illness     0.00\n",
       "threat_level                0.00\n",
       "flee                        7.72\n",
       "body_camera                 0.00\n",
       "longitude                   4.77\n",
       "latitude                    4.77\n",
       "is_geocoding_exact          0.00\n",
       "year                        0.00\n",
       "month                       0.00\n",
       "dtype: float64"
      ]
     },
     "execution_count": 160,
     "metadata": {},
     "output_type": "execute_result"
    }
   ],
   "source": [
    "# missing values percentage\n",
    "df.isna().mean().round(4) * 100"
   ]
  },
  {
   "cell_type": "code",
   "execution_count": 161,
   "id": "a01551aa",
   "metadata": {},
   "outputs": [
    {
     "data": {
      "text/plain": [
       "<AxesSubplot:>"
      ]
     },
     "execution_count": 161,
     "metadata": {},
     "output_type": "execute_result"
    },
    {
     "data": {
      "image/png": "[encoded data removed]",
      "text/plain": [
       "<Figure size 1800x720 with 2 Axes>"
      ]
     },
     "metadata": {
      "needs_background": "light"
     },
     "output_type": "display_data"
    }
   ],
   "source": [
    "msno.matrix(df)"
   ]
  },
  {
   "cell_type": "code",
   "execution_count": 162,
   "id": "439d0f2a",
   "metadata": {},
   "outputs": [
    {
     "data": {
      "text/plain": [
       "(4939, 18)"
      ]
     },
     "execution_count": 162,
     "metadata": {},
     "output_type": "execute_result"
    }
   ],
   "source": [
    "df.dropna().shape"
   ]
  },
  {
   "cell_type": "code",
   "execution_count": 163,
   "id": "48954d9d",
   "metadata": {},
   "outputs": [],
   "source": [
    "df = df.drop(columns=['name'])"
   ]
  },
  {
   "cell_type": "code",
   "execution_count": 164,
   "id": "96f72991",
   "metadata": {},
   "outputs": [
    {
     "data": {
      "text/plain": [
       "(4951, 17)"
      ]
     },
     "execution_count": 164,
     "metadata": {},
     "output_type": "execute_result"
    }
   ],
   "source": [
    "df.dropna().shape"
   ]
  },
  {
   "cell_type": "code",
   "execution_count": null,
   "id": "7f34807a",
   "metadata": {},
   "outputs": [],
   "source": []
  },
  {
   "cell_type": "code",
   "execution_count": 165,
   "id": "8e6a7581",
   "metadata": {},
   "outputs": [
    {
     "data": {
      "text/html": [
       "<div>\n",
       "<style scoped>\n",
       "    .dataframe tbody tr th:only-of-type {\n",
       "        vertical-align: middle;\n",
       "    }\n",
       "\n",
       "    .dataframe tbody tr th {\n",
       "        vertical-align: top;\n",
       "    }\n",
       "\n",
       "    .dataframe thead th {\n",
       "        text-align: right;\n",
       "    }\n",
       "</style>\n",
       "<table border=\"1\" class=\"dataframe\">\n",
       "  <thead>\n",
       "    <tr style=\"text-align: right;\">\n",
       "      <th></th>\n",
       "      <th>date</th>\n",
       "      <th>manner_of_death</th>\n",
       "      <th>armed</th>\n",
       "      <th>age</th>\n",
       "      <th>gender</th>\n",
       "      <th>race</th>\n",
       "      <th>city</th>\n",
       "      <th>state</th>\n",
       "      <th>signs_of_mental_illness</th>\n",
       "      <th>threat_level</th>\n",
       "      <th>flee</th>\n",
       "      <th>body_camera</th>\n",
       "      <th>longitude</th>\n",
       "      <th>latitude</th>\n",
       "      <th>is_geocoding_exact</th>\n",
       "      <th>year</th>\n",
       "      <th>month</th>\n",
       "    </tr>\n",
       "  </thead>\n",
       "  <tbody>\n",
       "    <tr>\n",
       "      <th>127</th>\n",
       "      <td>2015-02-20</td>\n",
       "      <td>shot</td>\n",
       "      <td>gun</td>\n",
       "      <td>NaN</td>\n",
       "      <td>M</td>\n",
       "      <td>H</td>\n",
       "      <td>Houston</td>\n",
       "      <td>TX</td>\n",
       "      <td>False</td>\n",
       "      <td>attack</td>\n",
       "      <td>Car</td>\n",
       "      <td>False</td>\n",
       "      <td>-95.401</td>\n",
       "      <td>29.983</td>\n",
       "      <td>True</td>\n",
       "      <td>2015</td>\n",
       "      <td>2</td>\n",
       "    </tr>\n",
       "    <tr>\n",
       "      <th>769</th>\n",
       "      <td>2015-10-12</td>\n",
       "      <td>shot</td>\n",
       "      <td>gun</td>\n",
       "      <td>NaN</td>\n",
       "      <td>M</td>\n",
       "      <td>B</td>\n",
       "      <td>Lawton</td>\n",
       "      <td>OK</td>\n",
       "      <td>False</td>\n",
       "      <td>attack</td>\n",
       "      <td>Not fleeing</td>\n",
       "      <td>False</td>\n",
       "      <td>-98.422</td>\n",
       "      <td>34.599</td>\n",
       "      <td>True</td>\n",
       "      <td>2015</td>\n",
       "      <td>10</td>\n",
       "    </tr>\n",
       "    <tr>\n",
       "      <th>809</th>\n",
       "      <td>2015-10-24</td>\n",
       "      <td>shot</td>\n",
       "      <td>gun</td>\n",
       "      <td>NaN</td>\n",
       "      <td>M</td>\n",
       "      <td>NaN</td>\n",
       "      <td>New Paltz</td>\n",
       "      <td>NY</td>\n",
       "      <td>False</td>\n",
       "      <td>attack</td>\n",
       "      <td>Not fleeing</td>\n",
       "      <td>False</td>\n",
       "      <td>-74.080</td>\n",
       "      <td>41.747</td>\n",
       "      <td>True</td>\n",
       "      <td>2015</td>\n",
       "      <td>10</td>\n",
       "    </tr>\n",
       "    <tr>\n",
       "      <th>819</th>\n",
       "      <td>2015-10-29</td>\n",
       "      <td>shot</td>\n",
       "      <td>gun</td>\n",
       "      <td>NaN</td>\n",
       "      <td>M</td>\n",
       "      <td>B</td>\n",
       "      <td>Columbus</td>\n",
       "      <td>OH</td>\n",
       "      <td>False</td>\n",
       "      <td>other</td>\n",
       "      <td>Not fleeing</td>\n",
       "      <td>False</td>\n",
       "      <td>-82.863</td>\n",
       "      <td>39.922</td>\n",
       "      <td>True</td>\n",
       "      <td>2015</td>\n",
       "      <td>10</td>\n",
       "    </tr>\n",
       "    <tr>\n",
       "      <th>932</th>\n",
       "      <td>2015-12-10</td>\n",
       "      <td>shot</td>\n",
       "      <td>gun</td>\n",
       "      <td>NaN</td>\n",
       "      <td>M</td>\n",
       "      <td>NaN</td>\n",
       "      <td>Hemet</td>\n",
       "      <td>CA</td>\n",
       "      <td>False</td>\n",
       "      <td>attack</td>\n",
       "      <td>Not fleeing</td>\n",
       "      <td>False</td>\n",
       "      <td>-116.971</td>\n",
       "      <td>33.729</td>\n",
       "      <td>True</td>\n",
       "      <td>2015</td>\n",
       "      <td>12</td>\n",
       "    </tr>\n",
       "    <tr>\n",
       "      <th>...</th>\n",
       "      <td>...</td>\n",
       "      <td>...</td>\n",
       "      <td>...</td>\n",
       "      <td>...</td>\n",
       "      <td>...</td>\n",
       "      <td>...</td>\n",
       "      <td>...</td>\n",
       "      <td>...</td>\n",
       "      <td>...</td>\n",
       "      <td>...</td>\n",
       "      <td>...</td>\n",
       "      <td>...</td>\n",
       "      <td>...</td>\n",
       "      <td>...</td>\n",
       "      <td>...</td>\n",
       "      <td>...</td>\n",
       "      <td>...</td>\n",
       "    </tr>\n",
       "    <tr>\n",
       "      <th>6722</th>\n",
       "      <td>2021-11-06</td>\n",
       "      <td>shot</td>\n",
       "      <td>undetermined</td>\n",
       "      <td>NaN</td>\n",
       "      <td>M</td>\n",
       "      <td>NaN</td>\n",
       "      <td>Henrico County</td>\n",
       "      <td>VA</td>\n",
       "      <td>False</td>\n",
       "      <td>undetermined</td>\n",
       "      <td>NaN</td>\n",
       "      <td>False</td>\n",
       "      <td>-76.861</td>\n",
       "      <td>37.495</td>\n",
       "      <td>True</td>\n",
       "      <td>2021</td>\n",
       "      <td>11</td>\n",
       "    </tr>\n",
       "    <tr>\n",
       "      <th>6725</th>\n",
       "      <td>2021-11-06</td>\n",
       "      <td>shot</td>\n",
       "      <td>gun</td>\n",
       "      <td>NaN</td>\n",
       "      <td>M</td>\n",
       "      <td>NaN</td>\n",
       "      <td>Long Branch</td>\n",
       "      <td>NJ</td>\n",
       "      <td>False</td>\n",
       "      <td>attack</td>\n",
       "      <td>Not fleeing</td>\n",
       "      <td>False</td>\n",
       "      <td>-73.991</td>\n",
       "      <td>40.300</td>\n",
       "      <td>True</td>\n",
       "      <td>2021</td>\n",
       "      <td>11</td>\n",
       "    </tr>\n",
       "    <tr>\n",
       "      <th>6728</th>\n",
       "      <td>2021-11-07</td>\n",
       "      <td>shot</td>\n",
       "      <td>gun</td>\n",
       "      <td>NaN</td>\n",
       "      <td>M</td>\n",
       "      <td>NaN</td>\n",
       "      <td>Knowlton Township</td>\n",
       "      <td>NJ</td>\n",
       "      <td>False</td>\n",
       "      <td>attack</td>\n",
       "      <td>Not fleeing</td>\n",
       "      <td>False</td>\n",
       "      <td>-75.108</td>\n",
       "      <td>40.948</td>\n",
       "      <td>True</td>\n",
       "      <td>2021</td>\n",
       "      <td>11</td>\n",
       "    </tr>\n",
       "    <tr>\n",
       "      <th>6729</th>\n",
       "      <td>2021-11-08</td>\n",
       "      <td>shot</td>\n",
       "      <td>gun</td>\n",
       "      <td>NaN</td>\n",
       "      <td>M</td>\n",
       "      <td>NaN</td>\n",
       "      <td>Renton</td>\n",
       "      <td>WA</td>\n",
       "      <td>False</td>\n",
       "      <td>other</td>\n",
       "      <td>Not fleeing</td>\n",
       "      <td>False</td>\n",
       "      <td>-122.223</td>\n",
       "      <td>47.474</td>\n",
       "      <td>True</td>\n",
       "      <td>2021</td>\n",
       "      <td>11</td>\n",
       "    </tr>\n",
       "    <tr>\n",
       "      <th>6731</th>\n",
       "      <td>2021-11-09</td>\n",
       "      <td>shot</td>\n",
       "      <td>gun</td>\n",
       "      <td>NaN</td>\n",
       "      <td>M</td>\n",
       "      <td>NaN</td>\n",
       "      <td>Boston</td>\n",
       "      <td>MA</td>\n",
       "      <td>True</td>\n",
       "      <td>attack</td>\n",
       "      <td>Not fleeing</td>\n",
       "      <td>True</td>\n",
       "      <td>-71.077</td>\n",
       "      <td>42.289</td>\n",
       "      <td>True</td>\n",
       "      <td>2021</td>\n",
       "      <td>11</td>\n",
       "    </tr>\n",
       "  </tbody>\n",
       "</table>\n",
       "<p>326 rows × 17 columns</p>\n",
       "</div>"
      ],
      "text/plain": [
       "           date manner_of_death         armed  age gender race  \\\n",
       "127  2015-02-20            shot           gun  NaN      M    H   \n",
       "769  2015-10-12            shot           gun  NaN      M    B   \n",
       "809  2015-10-24            shot           gun  NaN      M  NaN   \n",
       "819  2015-10-29            shot           gun  NaN      M    B   \n",
       "932  2015-12-10            shot           gun  NaN      M  NaN   \n",
       "...         ...             ...           ...  ...    ...  ...   \n",
       "6722 2021-11-06            shot  undetermined  NaN      M  NaN   \n",
       "6725 2021-11-06            shot           gun  NaN      M  NaN   \n",
       "6728 2021-11-07            shot           gun  NaN      M  NaN   \n",
       "6729 2021-11-08            shot           gun  NaN      M  NaN   \n",
       "6731 2021-11-09            shot           gun  NaN      M  NaN   \n",
       "\n",
       "                   city state  signs_of_mental_illness  threat_level  \\\n",
       "127             Houston    TX                    False        attack   \n",
       "769              Lawton    OK                    False        attack   \n",
       "809           New Paltz    NY                    False        attack   \n",
       "819            Columbus    OH                    False         other   \n",
       "932               Hemet    CA                    False        attack   \n",
       "...                 ...   ...                      ...           ...   \n",
       "6722     Henrico County    VA                    False  undetermined   \n",
       "6725        Long Branch    NJ                    False        attack   \n",
       "6728  Knowlton Township    NJ                    False        attack   \n",
       "6729             Renton    WA                    False         other   \n",
       "6731             Boston    MA                     True        attack   \n",
       "\n",
       "             flee  body_camera  longitude  latitude  is_geocoding_exact  year  \\\n",
       "127           Car        False    -95.401    29.983                True  2015   \n",
       "769   Not fleeing        False    -98.422    34.599                True  2015   \n",
       "809   Not fleeing        False    -74.080    41.747                True  2015   \n",
       "819   Not fleeing        False    -82.863    39.922                True  2015   \n",
       "932   Not fleeing        False   -116.971    33.729                True  2015   \n",
       "...           ...          ...        ...       ...                 ...   ...   \n",
       "6722          NaN        False    -76.861    37.495                True  2021   \n",
       "6725  Not fleeing        False    -73.991    40.300                True  2021   \n",
       "6728  Not fleeing        False    -75.108    40.948                True  2021   \n",
       "6729  Not fleeing        False   -122.223    47.474                True  2021   \n",
       "6731  Not fleeing         True    -71.077    42.289                True  2021   \n",
       "\n",
       "      month  \n",
       "127       2  \n",
       "769      10  \n",
       "809      10  \n",
       "819      10  \n",
       "932      12  \n",
       "...     ...  \n",
       "6722     11  \n",
       "6725     11  \n",
       "6728     11  \n",
       "6729     11  \n",
       "6731     11  \n",
       "\n",
       "[326 rows x 17 columns]"
      ]
     },
     "execution_count": 165,
     "metadata": {},
     "output_type": "execute_result"
    }
   ],
   "source": [
    "df.query(\"age.isna()\")"
   ]
  },
  {
   "cell_type": "markdown",
   "id": "2eff76c3",
   "metadata": {},
   "source": [
    "It will be difficult to impute any of the missing values,therefore lets drop all rows with any missing values"
   ]
  },
  {
   "cell_type": "code",
   "execution_count": 166,
   "id": "462c8483",
   "metadata": {},
   "outputs": [],
   "source": [
    "df.dropna(inplace=True)"
   ]
  },
  {
   "cell_type": "code",
   "execution_count": 167,
   "id": "815b1757",
   "metadata": {},
   "outputs": [
    {
     "data": {
      "text/plain": [
       "(4951, 17)"
      ]
     },
     "execution_count": 167,
     "metadata": {},
     "output_type": "execute_result"
    }
   ],
   "source": [
    "df.shape"
   ]
  },
  {
   "cell_type": "markdown",
   "id": "0995d2f3",
   "metadata": {},
   "source": [
    "Check that we have no missing data"
   ]
  },
  {
   "cell_type": "code",
   "execution_count": 168,
   "id": "a217a52d",
   "metadata": {},
   "outputs": [
    {
     "data": {
      "text/plain": [
       "date                       0\n",
       "manner_of_death            0\n",
       "armed                      0\n",
       "age                        0\n",
       "gender                     0\n",
       "race                       0\n",
       "city                       0\n",
       "state                      0\n",
       "signs_of_mental_illness    0\n",
       "threat_level               0\n",
       "flee                       0\n",
       "body_camera                0\n",
       "longitude                  0\n",
       "latitude                   0\n",
       "is_geocoding_exact         0\n",
       "year                       0\n",
       "month                      0\n",
       "dtype: int64"
      ]
     },
     "execution_count": 168,
     "metadata": {},
     "output_type": "execute_result"
    }
   ],
   "source": [
    "df.isna().sum()"
   ]
  },
  {
   "cell_type": "markdown",
   "id": "c3b204d9",
   "metadata": {},
   "source": [
    "# Initial Exploratory Analysis"
   ]
  },
  {
   "cell_type": "markdown",
   "id": "a09c148d",
   "metadata": {},
   "source": [
    "Column Value Counts"
   ]
  },
  {
   "cell_type": "code",
   "execution_count": 169,
   "id": "6359bbe0",
   "metadata": {},
   "outputs": [
    {
     "data": {
      "text/plain": [
       "Index(['date', 'manner_of_death', 'armed', 'age', 'gender', 'race', 'city',\n",
       "       'state', 'signs_of_mental_illness', 'threat_level', 'flee',\n",
       "       'body_camera', 'longitude', 'latitude', 'is_geocoding_exact', 'year',\n",
       "       'month'],\n",
       "      dtype='object')"
      ]
     },
     "execution_count": 169,
     "metadata": {},
     "output_type": "execute_result"
    }
   ],
   "source": [
    "df.columns"
   ]
  },
  {
   "cell_type": "code",
   "execution_count": 170,
   "id": "496703ea",
   "metadata": {},
   "outputs": [
    {
     "data": {
      "text/plain": [
       "<AxesSubplot:>"
      ]
     },
     "execution_count": 170,
     "metadata": {},
     "output_type": "execute_result"
    },
    {
     "data": {
      "image/png": "[encoded data removed]",
      "text/plain": [
       "<Figure size 432x288 with 1 Axes>"
      ]
     },
     "metadata": {
      "needs_background": "light"
     },
     "output_type": "display_data"
    }
   ],
   "source": [
    "df.manner_of_death.value_counts().plot(kind='bar')"
   ]
  },
  {
   "cell_type": "code",
   "execution_count": 171,
   "id": "a746e993",
   "metadata": {},
   "outputs": [
    {
     "data": {
      "text/plain": [
       "gun                                 2911\n",
       "knife                                756\n",
       "unarmed                              376\n",
       "toy weapon                           193\n",
       "vehicle                              164\n",
       "undetermined                          93\n",
       "unknown weapon                        53\n",
       "machete                               42\n",
       "Taser                                 26\n",
       "sword                                 22\n",
       "baseball bat                          17\n",
       "hammer                                16\n",
       "ax                                    16\n",
       "gun and knife                         14\n",
       "gun and vehicle                       14\n",
       "metal pipe                            13\n",
       "screwdriver                           13\n",
       "sharp object                          12\n",
       "box cutter                            12\n",
       "hatchet                               11\n",
       "gun and car                            9\n",
       "BB gun                                 9\n",
       "scissors                               8\n",
       "piece of wood                          7\n",
       "pipe                                   6\n",
       "vehicle and gun                        6\n",
       "shovel                                 6\n",
       "rock                                   5\n",
       "blunt object                           5\n",
       "straight edge razor                    5\n",
       "pick-axe                               4\n",
       "metal pole                             4\n",
       "meat cleaver                           4\n",
       "baton                                  4\n",
       "crowbar                                4\n",
       "samurai sword                          4\n",
       "crossbow                               4\n",
       "chair                                  4\n",
       "guns and explosives                    3\n",
       "pellet gun                             3\n",
       "metal object                           3\n",
       "chain                                  3\n",
       "metal stick                            3\n",
       "pole                                   3\n",
       "pitchfork                              2\n",
       "flashlight                             2\n",
       "hatchet and gun                        2\n",
       "metal hand tool                        2\n",
       "brick                                  2\n",
       "pole and knife                         2\n",
       "beer bottle                            2\n",
       "tire iron                              2\n",
       "gun and machete                        2\n",
       "Airsoft pistol                         2\n",
       "glass shard                            2\n",
       "nail gun                               1\n",
       "bow and arrow                          1\n",
       "incendiary device                      1\n",
       "wrench                                 1\n",
       "chainsaw                               1\n",
       "walking stick                          1\n",
       "barstool                               1\n",
       "grenade                                1\n",
       "BB gun and vehicle                     1\n",
       "wasp spray                             1\n",
       "air pistol                             1\n",
       "vehicle and machete                    1\n",
       "ice pick                               1\n",
       "bottle                                 1\n",
       "gun and sword                          1\n",
       "motorcycle                             1\n",
       "pen                                    1\n",
       "lawn mower blade                       1\n",
       "carjack                                1\n",
       "contractor's level                     1\n",
       "railroad spikes                        1\n",
       "stapler                                1\n",
       "cordless drill                         1\n",
       "binoculars                             1\n",
       "bean-bag gun                           1\n",
       "baseball bat and fireplace poker       1\n",
       "flagpole                               1\n",
       "hand torch                             1\n",
       "fireworks                              1\n",
       "chain saw                              1\n",
       "garden tool                            1\n",
       "spear                                  1\n",
       "pepper spray                           1\n",
       "metal rake                             1\n",
       "oar                                    1\n",
       "machete and gun                        1\n",
       "air conditioner                        1\n",
       "baseball bat and bottle                1\n",
       "knife and vehicle                      1\n",
       "Name: armed, dtype: int64"
      ]
     },
     "execution_count": 171,
     "metadata": {},
     "output_type": "execute_result"
    }
   ],
   "source": [
    "df.armed.value_counts()"
   ]
  },
  {
   "cell_type": "code",
   "execution_count": 172,
   "id": "429285c3",
   "metadata": {},
   "outputs": [
    {
     "data": {
      "text/plain": [
       "gun                                 0.587962\n",
       "knife                               0.152696\n",
       "unarmed                             0.075944\n",
       "toy weapon                          0.038982\n",
       "vehicle                             0.033125\n",
       "undetermined                        0.018784\n",
       "unknown weapon                      0.010705\n",
       "machete                             0.008483\n",
       "Taser                               0.005251\n",
       "sword                               0.004444\n",
       "baseball bat                        0.003434\n",
       "hammer                              0.003232\n",
       "ax                                  0.003232\n",
       "gun and knife                       0.002828\n",
       "gun and vehicle                     0.002828\n",
       "metal pipe                          0.002626\n",
       "screwdriver                         0.002626\n",
       "sharp object                        0.002424\n",
       "box cutter                          0.002424\n",
       "hatchet                             0.002222\n",
       "gun and car                         0.001818\n",
       "BB gun                              0.001818\n",
       "scissors                            0.001616\n",
       "piece of wood                       0.001414\n",
       "pipe                                0.001212\n",
       "vehicle and gun                     0.001212\n",
       "shovel                              0.001212\n",
       "rock                                0.001010\n",
       "blunt object                        0.001010\n",
       "straight edge razor                 0.001010\n",
       "pick-axe                            0.000808\n",
       "metal pole                          0.000808\n",
       "meat cleaver                        0.000808\n",
       "baton                               0.000808\n",
       "crowbar                             0.000808\n",
       "samurai sword                       0.000808\n",
       "crossbow                            0.000808\n",
       "chair                               0.000808\n",
       "guns and explosives                 0.000606\n",
       "pellet gun                          0.000606\n",
       "metal object                        0.000606\n",
       "chain                               0.000606\n",
       "metal stick                         0.000606\n",
       "pole                                0.000606\n",
       "pitchfork                           0.000404\n",
       "flashlight                          0.000404\n",
       "hatchet and gun                     0.000404\n",
       "metal hand tool                     0.000404\n",
       "brick                               0.000404\n",
       "pole and knife                      0.000404\n",
       "beer bottle                         0.000404\n",
       "tire iron                           0.000404\n",
       "gun and machete                     0.000404\n",
       "Airsoft pistol                      0.000404\n",
       "glass shard                         0.000404\n",
       "nail gun                            0.000202\n",
       "bow and arrow                       0.000202\n",
       "incendiary device                   0.000202\n",
       "wrench                              0.000202\n",
       "chainsaw                            0.000202\n",
       "walking stick                       0.000202\n",
       "barstool                            0.000202\n",
       "grenade                             0.000202\n",
       "BB gun and vehicle                  0.000202\n",
       "wasp spray                          0.000202\n",
       "air pistol                          0.000202\n",
       "vehicle and machete                 0.000202\n",
       "ice pick                            0.000202\n",
       "bottle                              0.000202\n",
       "gun and sword                       0.000202\n",
       "motorcycle                          0.000202\n",
       "pen                                 0.000202\n",
       "lawn mower blade                    0.000202\n",
       "carjack                             0.000202\n",
       "contractor's level                  0.000202\n",
       "railroad spikes                     0.000202\n",
       "stapler                             0.000202\n",
       "cordless drill                      0.000202\n",
       "binoculars                          0.000202\n",
       "bean-bag gun                        0.000202\n",
       "baseball bat and fireplace poker    0.000202\n",
       "flagpole                            0.000202\n",
       "hand torch                          0.000202\n",
       "fireworks                           0.000202\n",
       "chain saw                           0.000202\n",
       "garden tool                         0.000202\n",
       "spear                               0.000202\n",
       "pepper spray                        0.000202\n",
       "metal rake                          0.000202\n",
       "oar                                 0.000202\n",
       "machete and gun                     0.000202\n",
       "air conditioner                     0.000202\n",
       "baseball bat and bottle             0.000202\n",
       "knife and vehicle                   0.000202\n",
       "Name: armed, dtype: float64"
      ]
     },
     "execution_count": 172,
     "metadata": {},
     "output_type": "execute_result"
    }
   ],
   "source": [
    "df.armed.value_counts(normalize=True)"
   ]
  },
  {
   "cell_type": "markdown",
   "id": "8fe029a9",
   "metadata": {},
   "source": [
    "Lets consolidate the armed values to: gun, knife, unarmed, other"
   ]
  },
  {
   "cell_type": "code",
   "execution_count": 173,
   "id": "7e9a6e4d",
   "metadata": {},
   "outputs": [],
   "source": [
    "conditions = [\n",
    "    (df['armed']=='gun'),\n",
    "    (df['armed']=='knife'),\n",
    "    (df['armed']=='unarmed'),\n",
    "    (df['armed']!='gun') & (df['armed']!='knife') & (df['armed']!='unarmed')\n",
    "]\n",
    "values=['gun', 'knife', 'unarmed', 'other']\n",
    "df['armed_agg'] = np.select(conditions, values)"
   ]
  },
  {
   "cell_type": "code",
   "execution_count": 174,
   "id": "940d7f4c",
   "metadata": {},
   "outputs": [],
   "source": [
    "conditions = [\n",
    "    (df['armed']!='unarmed'),\n",
    "    (df['armed']=='unarmed'),\n",
    "]\n",
    "values=[1, 0]\n",
    "df['was_armed'] = np.select(conditions, values)"
   ]
  },
  {
   "cell_type": "code",
   "execution_count": 175,
   "id": "4744a681",
   "metadata": {},
   "outputs": [
    {
     "data": {
      "text/html": [
       "<div>\n",
       "<style scoped>\n",
       "    .dataframe tbody tr th:only-of-type {\n",
       "        vertical-align: middle;\n",
       "    }\n",
       "\n",
       "    .dataframe tbody tr th {\n",
       "        vertical-align: top;\n",
       "    }\n",
       "\n",
       "    .dataframe thead th {\n",
       "        text-align: right;\n",
       "    }\n",
       "</style>\n",
       "<table border=\"1\" class=\"dataframe\">\n",
       "  <thead>\n",
       "    <tr style=\"text-align: right;\">\n",
       "      <th></th>\n",
       "      <th>date</th>\n",
       "      <th>manner_of_death</th>\n",
       "      <th>armed</th>\n",
       "      <th>age</th>\n",
       "      <th>gender</th>\n",
       "      <th>race</th>\n",
       "      <th>city</th>\n",
       "      <th>state</th>\n",
       "      <th>signs_of_mental_illness</th>\n",
       "      <th>threat_level</th>\n",
       "      <th>flee</th>\n",
       "      <th>body_camera</th>\n",
       "      <th>longitude</th>\n",
       "      <th>latitude</th>\n",
       "      <th>is_geocoding_exact</th>\n",
       "      <th>year</th>\n",
       "      <th>month</th>\n",
       "      <th>armed_agg</th>\n",
       "      <th>was_armed</th>\n",
       "    </tr>\n",
       "  </thead>\n",
       "  <tbody>\n",
       "    <tr>\n",
       "      <th>0</th>\n",
       "      <td>2015-01-02</td>\n",
       "      <td>shot</td>\n",
       "      <td>gun</td>\n",
       "      <td>53.0</td>\n",
       "      <td>M</td>\n",
       "      <td>A</td>\n",
       "      <td>Shelton</td>\n",
       "      <td>WA</td>\n",
       "      <td>True</td>\n",
       "      <td>attack</td>\n",
       "      <td>Not fleeing</td>\n",
       "      <td>False</td>\n",
       "      <td>-123.122</td>\n",
       "      <td>47.247</td>\n",
       "      <td>True</td>\n",
       "      <td>2015</td>\n",
       "      <td>1</td>\n",
       "      <td>gun</td>\n",
       "      <td>1</td>\n",
       "    </tr>\n",
       "    <tr>\n",
       "      <th>1</th>\n",
       "      <td>2015-01-02</td>\n",
       "      <td>shot</td>\n",
       "      <td>gun</td>\n",
       "      <td>47.0</td>\n",
       "      <td>M</td>\n",
       "      <td>W</td>\n",
       "      <td>Aloha</td>\n",
       "      <td>OR</td>\n",
       "      <td>False</td>\n",
       "      <td>attack</td>\n",
       "      <td>Not fleeing</td>\n",
       "      <td>False</td>\n",
       "      <td>-122.892</td>\n",
       "      <td>45.487</td>\n",
       "      <td>True</td>\n",
       "      <td>2015</td>\n",
       "      <td>1</td>\n",
       "      <td>gun</td>\n",
       "      <td>1</td>\n",
       "    </tr>\n",
       "    <tr>\n",
       "      <th>2</th>\n",
       "      <td>2015-01-03</td>\n",
       "      <td>shot and Tasered</td>\n",
       "      <td>unarmed</td>\n",
       "      <td>23.0</td>\n",
       "      <td>M</td>\n",
       "      <td>H</td>\n",
       "      <td>Wichita</td>\n",
       "      <td>KS</td>\n",
       "      <td>False</td>\n",
       "      <td>other</td>\n",
       "      <td>Not fleeing</td>\n",
       "      <td>False</td>\n",
       "      <td>-97.281</td>\n",
       "      <td>37.695</td>\n",
       "      <td>True</td>\n",
       "      <td>2015</td>\n",
       "      <td>1</td>\n",
       "      <td>unarmed</td>\n",
       "      <td>0</td>\n",
       "    </tr>\n",
       "    <tr>\n",
       "      <th>3</th>\n",
       "      <td>2015-01-04</td>\n",
       "      <td>shot</td>\n",
       "      <td>toy weapon</td>\n",
       "      <td>32.0</td>\n",
       "      <td>M</td>\n",
       "      <td>W</td>\n",
       "      <td>San Francisco</td>\n",
       "      <td>CA</td>\n",
       "      <td>True</td>\n",
       "      <td>attack</td>\n",
       "      <td>Not fleeing</td>\n",
       "      <td>False</td>\n",
       "      <td>-122.422</td>\n",
       "      <td>37.763</td>\n",
       "      <td>True</td>\n",
       "      <td>2015</td>\n",
       "      <td>1</td>\n",
       "      <td>other</td>\n",
       "      <td>1</td>\n",
       "    </tr>\n",
       "    <tr>\n",
       "      <th>4</th>\n",
       "      <td>2015-01-04</td>\n",
       "      <td>shot</td>\n",
       "      <td>nail gun</td>\n",
       "      <td>39.0</td>\n",
       "      <td>M</td>\n",
       "      <td>H</td>\n",
       "      <td>Evans</td>\n",
       "      <td>CO</td>\n",
       "      <td>False</td>\n",
       "      <td>attack</td>\n",
       "      <td>Not fleeing</td>\n",
       "      <td>False</td>\n",
       "      <td>-104.692</td>\n",
       "      <td>40.384</td>\n",
       "      <td>True</td>\n",
       "      <td>2015</td>\n",
       "      <td>1</td>\n",
       "      <td>other</td>\n",
       "      <td>1</td>\n",
       "    </tr>\n",
       "  </tbody>\n",
       "</table>\n",
       "</div>"
      ],
      "text/plain": [
       "        date   manner_of_death       armed   age gender race           city  \\\n",
       "0 2015-01-02              shot         gun  53.0      M    A        Shelton   \n",
       "1 2015-01-02              shot         gun  47.0      M    W          Aloha   \n",
       "2 2015-01-03  shot and Tasered     unarmed  23.0      M    H        Wichita   \n",
       "3 2015-01-04              shot  toy weapon  32.0      M    W  San Francisco   \n",
       "4 2015-01-04              shot    nail gun  39.0      M    H          Evans   \n",
       "\n",
       "  state  signs_of_mental_illness threat_level         flee  body_camera  \\\n",
       "0    WA                     True       attack  Not fleeing        False   \n",
       "1    OR                    False       attack  Not fleeing        False   \n",
       "2    KS                    False        other  Not fleeing        False   \n",
       "3    CA                     True       attack  Not fleeing        False   \n",
       "4    CO                    False       attack  Not fleeing        False   \n",
       "\n",
       "   longitude  latitude  is_geocoding_exact  year  month armed_agg  was_armed  \n",
       "0   -123.122    47.247                True  2015      1       gun          1  \n",
       "1   -122.892    45.487                True  2015      1       gun          1  \n",
       "2    -97.281    37.695                True  2015      1   unarmed          0  \n",
       "3   -122.422    37.763                True  2015      1     other          1  \n",
       "4   -104.692    40.384                True  2015      1     other          1  "
      ]
     },
     "execution_count": 175,
     "metadata": {},
     "output_type": "execute_result"
    }
   ],
   "source": [
    "df.head()"
   ]
  },
  {
   "cell_type": "code",
   "execution_count": 176,
   "id": "2b00634b",
   "metadata": {},
   "outputs": [
    {
     "data": {
      "text/plain": [
       "gun        0.587962\n",
       "other      0.183397\n",
       "knife      0.152696\n",
       "unarmed    0.075944\n",
       "Name: armed_agg, dtype: float64"
      ]
     },
     "execution_count": 176,
     "metadata": {},
     "output_type": "execute_result"
    }
   ],
   "source": [
    "df.armed_agg.value_counts(normalize=True)"
   ]
  },
  {
   "cell_type": "code",
   "execution_count": 177,
   "id": "4b3d1319",
   "metadata": {},
   "outputs": [
    {
     "data": {
      "text/plain": [
       "<AxesSubplot:>"
      ]
     },
     "execution_count": 177,
     "metadata": {},
     "output_type": "execute_result"
    },
    {
     "data": {
      "image/png": "[encoded data removed]",
      "text/plain": [
       "<Figure size 432x288 with 1 Axes>"
      ]
     },
     "metadata": {
      "needs_background": "light"
     },
     "output_type": "display_data"
    }
   ],
   "source": [
    "df.armed_agg.value_counts(normalize=True).plot(kind='bar')"
   ]
  },
  {
   "cell_type": "code",
   "execution_count": 194,
   "id": "5207d95e",
   "metadata": {},
   "outputs": [
    {
     "data": {
      "text/plain": [
       "<AxesSubplot:>"
      ]
     },
     "execution_count": 194,
     "metadata": {},
     "output_type": "execute_result"
    },
    {
     "data": {
      "image/png": "[encoded data removed]",
      "text/plain": [
       "<Figure size 432x288 with 1 Axes>"
      ]
     },
     "metadata": {
      "needs_background": "light"
     },
     "output_type": "display_data"
    }
   ],
   "source": [
    "df.was_armed.value_counts(normalize=True).plot(kind='bar')"
   ]
  },
  {
   "cell_type": "code",
   "execution_count": 178,
   "id": "c87d3742",
   "metadata": {},
   "outputs": [
    {
     "data": {
      "text/plain": [
       "<AxesSubplot:>"
      ]
     },
     "execution_count": 178,
     "metadata": {},
     "output_type": "execute_result"
    },
    {
     "data": {
      "image/png": "[encoded data removed]",
      "text/plain": [
       "<Figure size 432x288 with 1 Axes>"
      ]
     },
     "metadata": {
      "needs_background": "light"
     },
     "output_type": "display_data"
    }
   ],
   "source": [
    "df.gender.value_counts().plot(kind='bar')"
   ]
  },
  {
   "cell_type": "code",
   "execution_count": 179,
   "id": "40f6d881",
   "metadata": {},
   "outputs": [
    {
     "data": {
      "text/plain": [
       "<AxesSubplot:>"
      ]
     },
     "execution_count": 179,
     "metadata": {},
     "output_type": "execute_result"
    },
    {
     "data": {
      "image/png": "[encoded data removed]",
      "text/plain": [
       "<Figure size 432x288 with 1 Axes>"
      ]
     },
     "metadata": {
      "needs_background": "light"
     },
     "output_type": "display_data"
    }
   ],
   "source": [
    "df.race.value_counts().plot(kind='bar')"
   ]
  },
  {
   "cell_type": "code",
   "execution_count": 180,
   "id": "4b6e3f29",
   "metadata": {},
   "outputs": [
    {
     "data": {
      "text/plain": [
       "<AxesSubplot:>"
      ]
     },
     "execution_count": 180,
     "metadata": {},
     "output_type": "execute_result"
    },
    {
     "data": {
      "image/png": "[encoded data removed]",
      "text/plain": [
       "<Figure size 1152x720 with 1 Axes>"
      ]
     },
     "metadata": {
      "needs_background": "light"
     },
     "output_type": "display_data"
    }
   ],
   "source": [
    "df.age.value_counts().sort_index().plot(kind='bar', figsize=(16,10))"
   ]
  },
  {
   "cell_type": "code",
   "execution_count": 181,
   "id": "dea73b07",
   "metadata": {},
   "outputs": [
    {
     "data": {
      "text/plain": [
       "count    4951.000000\n",
       "mean       36.667542\n",
       "std        12.760710\n",
       "min         6.000000\n",
       "25%        27.000000\n",
       "50%        34.000000\n",
       "75%        45.000000\n",
       "max        91.000000\n",
       "Name: age, dtype: float64"
      ]
     },
     "execution_count": 181,
     "metadata": {},
     "output_type": "execute_result"
    }
   ],
   "source": [
    "df.age.describe()"
   ]
  },
  {
   "cell_type": "code",
   "execution_count": 182,
   "id": "610d96b3",
   "metadata": {},
   "outputs": [
    {
     "data": {
      "text/plain": [
       "<AxesSubplot:>"
      ]
     },
     "execution_count": 182,
     "metadata": {},
     "output_type": "execute_result"
    },
    {
     "data": {
      "image/png": "[encoded data removed]",
      "text/plain": [
       "<Figure size 432x288 with 1 Axes>"
      ]
     },
     "metadata": {
      "needs_background": "light"
     },
     "output_type": "display_data"
    }
   ],
   "source": [
    "df.signs_of_mental_illness.value_counts().plot(kind=\"bar\")"
   ]
  },
  {
   "cell_type": "code",
   "execution_count": 183,
   "id": "1951c0a6",
   "metadata": {},
   "outputs": [
    {
     "data": {
      "text/plain": [
       "attack          3264\n",
       "other           1576\n",
       "undetermined     111\n",
       "Name: threat_level, dtype: int64"
      ]
     },
     "execution_count": 183,
     "metadata": {},
     "output_type": "execute_result"
    }
   ],
   "source": [
    "df.threat_level.value_counts()"
   ]
  },
  {
   "cell_type": "code",
   "execution_count": 184,
   "id": "553d7256",
   "metadata": {},
   "outputs": [
    {
     "data": {
      "text/plain": [
       "Not fleeing    3290\n",
       "Foot            736\n",
       "Car             730\n",
       "Other           195\n",
       "Name: flee, dtype: int64"
      ]
     },
     "execution_count": 184,
     "metadata": {},
     "output_type": "execute_result"
    }
   ],
   "source": [
    "df.flee.value_counts()"
   ]
  },
  {
   "cell_type": "code",
   "execution_count": 185,
   "id": "573a64a8",
   "metadata": {},
   "outputs": [
    {
     "data": {
      "text/plain": [
       "False    4243\n",
       "True      708\n",
       "Name: body_camera, dtype: int64"
      ]
     },
     "execution_count": 185,
     "metadata": {},
     "output_type": "execute_result"
    }
   ],
   "source": [
    "df.body_camera.value_counts()"
   ]
  },
  {
   "cell_type": "code",
   "execution_count": 186,
   "id": "8380a288",
   "metadata": {},
   "outputs": [
    {
     "data": {
      "text/plain": [
       "2015    913\n",
       "2016    801\n",
       "2017    763\n",
       "2018    764\n",
       "2019    743\n",
       "2020    691\n",
       "2021    276\n",
       "Name: date, dtype: int64"
      ]
     },
     "execution_count": 186,
     "metadata": {},
     "output_type": "execute_result"
    }
   ],
   "source": [
    "df.date.dt.year.value_counts().sort_index()"
   ]
  },
  {
   "cell_type": "code",
   "execution_count": 187,
   "id": "fea8fb82",
   "metadata": {},
   "outputs": [
    {
     "data": {
      "text/plain": [
       "<AxesSubplot:>"
      ]
     },
     "execution_count": 187,
     "metadata": {},
     "output_type": "execute_result"
    },
    {
     "data": {
      "image/png": "[encoded data removed]",
      "text/plain": [
       "<Figure size 432x288 with 1 Axes>"
      ]
     },
     "metadata": {
      "needs_background": "light"
     },
     "output_type": "display_data"
    }
   ],
   "source": [
    "df.date.dt.year.value_counts().sort_index().plot()"
   ]
  },
  {
   "cell_type": "code",
   "execution_count": 193,
   "id": "e6c0f74b",
   "metadata": {},
   "outputs": [
    {
     "data": {
      "text/plain": [
       "CA    734\n",
       "TX    427\n",
       "FL    344\n",
       "AZ    214\n",
       "GA    179\n",
       "CO    176\n",
       "OK    148\n",
       "OH    146\n",
       "NC    145\n",
       "TN    132\n",
       "WA    127\n",
       "MO    118\n",
       "IL    107\n",
       "PA    101\n",
       "IN     99\n",
       "LA     94\n",
       "NY     93\n",
       "NM     93\n",
       "VA     93\n",
       "AL     91\n",
       "NV     87\n",
       "WI     86\n",
       "KY     84\n",
       "MD     81\n",
       "MI     81\n",
       "OR     79\n",
       "SC     73\n",
       "AR     65\n",
       "MN     62\n",
       "MS     61\n",
       "UT     60\n",
       "NJ     54\n",
       "KS     52\n",
       "ID     42\n",
       "WV     36\n",
       "MA     32\n",
       "IA     31\n",
       "AK     31\n",
       "NE     26\n",
       "MT     25\n",
       "HI     23\n",
       "ME     17\n",
       "DC     17\n",
       "CT     17\n",
       "NH     14\n",
       "WY     13\n",
       "SD     12\n",
       "DE     11\n",
       "ND      9\n",
       "VT      7\n",
       "RI      2\n",
       "Name: state, dtype: int64"
      ]
     },
     "execution_count": 193,
     "metadata": {},
     "output_type": "execute_result"
    }
   ],
   "source": [
    "# by itself these numbers do not mean much.  They need to be normalized to the population\n",
    "# of the state\n",
    "df.state.value_counts()"
   ]
  },
  {
   "cell_type": "markdown",
   "id": "68328514",
   "metadata": {},
   "source": [
    "# Analysis"
   ]
  },
  {
   "cell_type": "code",
   "execution_count": 189,
   "id": "ac8cabe7",
   "metadata": {},
   "outputs": [
    {
     "data": {
      "text/plain": [
       "0       A\n",
       "1       W\n",
       "2       H\n",
       "3       W\n",
       "4       H\n",
       "       ..\n",
       "6615    B\n",
       "6620    B\n",
       "6632    H\n",
       "6674    W\n",
       "6681    W\n",
       "Name: race, Length: 4951, dtype: object"
      ]
     },
     "execution_count": 189,
     "metadata": {},
     "output_type": "execute_result"
    }
   ],
   "source": [
    "df['race']"
   ]
  },
  {
   "cell_type": "code",
   "execution_count": 190,
   "id": "142b3e02",
   "metadata": {},
   "outputs": [
    {
     "data": {
      "text/plain": [
       "state  city       \n",
       "AK     Anchorage      9\n",
       "       Barrow         1\n",
       "       Eagle River    1\n",
       "       Fairbanks      9\n",
       "       Houston        1\n",
       "                     ..\n",
       "WY     Cheyenne       2\n",
       "       Douglas        2\n",
       "       Gillette       2\n",
       "       Laramie        1\n",
       "       Riverton       1\n",
       "Name: age, Length: 2537, dtype: int64"
      ]
     },
     "execution_count": 190,
     "metadata": {},
     "output_type": "execute_result"
    }
   ],
   "source": [
    "df.groupby(['state', 'city'])['age'].count()"
   ]
  },
  {
   "cell_type": "code",
   "execution_count": null,
   "id": "cd5a14cc",
   "metadata": {},
   "outputs": [],
   "source": []
  },
  {
   "cell_type": "code",
   "execution_count": 191,
   "id": "8d52b169",
   "metadata": {},
   "outputs": [
    {
     "data": {
      "text/plain": [
       "race  signs_of_mental_illness\n",
       "A     False                        63\n",
       "      True                         25\n",
       "B     False                      1102\n",
       "      True                        220\n",
       "H     False                       746\n",
       "      True                        169\n",
       "N     False                        59\n",
       "      True                         14\n",
       "O     False                        32\n",
       "      True                         10\n",
       "W     False                      1746\n",
       "      True                        765\n",
       "Name: signs_of_mental_illness, dtype: int64"
      ]
     },
     "execution_count": 191,
     "metadata": {},
     "output_type": "execute_result"
    }
   ],
   "source": [
    "df[['race', 'signs_of_mental_illness']].groupby(['race'])['signs_of_mental_illness'].value_counts()\n"
   ]
  },
  {
   "cell_type": "markdown",
   "id": "1f1b02e8",
   "metadata": {},
   "source": [
    "By year, show the number of armed people killed by race."
   ]
  },
  {
   "cell_type": "code",
   "execution_count": 192,
   "id": "6f3f7e07",
   "metadata": {},
   "outputs": [
    {
     "data": {
      "text/plain": [
       "<AxesSubplot:xlabel='year', ylabel='count'>"
      ]
     },
     "execution_count": 192,
     "metadata": {},
     "output_type": "execute_result"
    },
    {
     "data": {
      "image/png": "[encoded data removed]",
      "text/plain": [
       "<Figure size 864x720 with 1 Axes>"
      ]
     },
     "metadata": {
      "needs_background": "light"
     },
     "output_type": "display_data"
    }
   ],
   "source": [
    "x = df[['year', 'race', 'was_armed']].groupby(['year', 'race'])['was_armed'].count()\n",
    "x = x.reset_index(name='count')\n",
    "fig, ax = plt.subplots(figsize=(12,10))\n",
    "\n",
    "sns.barplot(x=\"year\",\n",
    "           y=\"count\",\n",
    "           hue=\"race\",\n",
    "           data=x,\n",
    "           ax=ax)\n",
    "\n"
   ]
  }
 ],
 "metadata": {
  "kernelspec": {
   "display_name": "Python 3 (ipykernel)",
   "language": "python",
   "name": "python3"
  },
  "language_info": {
   "codemirror_mode": {
    "name": "ipython",
    "version": 3
   },
   "file_extension": ".py",
   "mimetype": "text/x-python",
   "name": "python",
   "nbconvert_exporter": "python",
   "pygments_lexer": "ipython3",
   "version": "3.8.5"
  },
  "toc": {
   "base_numbering": 1,
   "nav_menu": {},
   "number_sections": true,
   "sideBar": true,
   "skip_h1_title": false,
   "title_cell": "Table of Contents",
   "title_sidebar": "Contents",
   "toc_cell": false,
   "toc_position": {},
   "toc_section_display": true,
   "toc_window_display": false
  }
 },
 "nbformat": 4,
 "nbformat_minor": 5
}
